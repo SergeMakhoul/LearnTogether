{
 "cells": [
  {
   "cell_type": "code",
   "execution_count": null,
   "metadata": {},
   "outputs": [],
   "source": [
    "import json\n",
    "from time import perf_counter\n",
    "\n",
    "import pandas as pd\n",
    "import tensorflow as tf\n",
    "from matplotlib import pyplot as plt\n",
    "from sklearn.model_selection import train_test_split\n",
    "from tensorflow.python.keras import Model, Sequential\n",
    "from tensorflow.python.keras.callbacks import EarlyStopping\n",
    "from tensorflow.python.keras.layers import Dense, InputLayer\n",
    "from tensorflow.python.keras.metrics import mean_squared_error\n",
    "from tensorflow.python.keras.optimizers import adam_v2, gradient_descent_v2\n",
    "\n",
    "from utils import create_dataset\n"
   ]
  },
  {
   "cell_type": "code",
   "execution_count": null,
   "metadata": {},
   "outputs": [],
   "source": [
    "with open('config.json', 'r') as f:\n",
    "    config = json.load(f)"
   ]
  },
  {
   "cell_type": "code",
   "execution_count": null,
   "metadata": {},
   "outputs": [],
   "source": [
    "# [[ 0.29265873, 2.5472521 ], [-0.33520817,-1.56389733], [ 0.14401205, 0.18743925], [ 0.11006161,-1.38229979], [-0.23074426,-1.17563806], [ 1.44437772, 0.2756959 ], [ 0.99085699, 1.18849757], [ 0.99092066, 1.42201573], [ 1.33845435, 1.74540078], [-0.27255264,-0.55275291]]"
   ]
  },
  {
   "cell_type": "code",
   "execution_count": null,
   "metadata": {},
   "outputs": [],
   "source": [
    "# data = pd.read_csv('dataset/dataset0.csv')\n",
    "# X, Y = data['X'], data['Y']\n",
    "# data=config['data']\n",
    "\n",
    "data = pd.read_csv(f'dataset/dataset0.csv')\n",
    "data = data.drop(data.columns[[0]], axis=1)\n",
    "data = data.drop(0)\n",
    "Y = data['Y']\n",
    "X = data.drop('Y', axis=1)\n",
    "# X, Y = create_dataset(nb=data['number_of_samples'], mu=data['mu'])\n",
    "\n",
    "# X=pd.DataFrame([[ 0.29265873, 2.5472521 ], [-0.33520817,-1.56389733], [ 0.14401205, 0.18743925], [ 0.11006161,-1.38229979], [-0.23074426,-1.17563806], [ 1.44437772, 0.2756959 ], [ 0.99085699, 1.18849757], [ 0.99092066, 1.42201573], [ 1.33845435, 1.74540078], [-0.27255264,-0.55275291]])\n",
    "# Y=pd.DataFrame([3.3738464835504596, -9.506718804211197, -5.433701420859016, -1.9133286898260367, -6.214157468063727, 20.07345394720946, 13.774794300597216, -3.2254340700010764, 8.119825975953095, 6.21957539224185])"
   ]
  },
  {
   "cell_type": "code",
   "execution_count": null,
   "metadata": {},
   "outputs": [],
   "source": [
    "(x_train, x_test, y_train, y_test) = train_test_split(X, Y, train_size=0.8)\n",
    "x_train = X\n",
    "y_train = Y"
   ]
  },
  {
   "cell_type": "code",
   "execution_count": null,
   "metadata": {},
   "outputs": [],
   "source": [
    "model: Model = Sequential([\n",
    "    InputLayer(input_shape=(2,)),\n",
    "    Dense(1)\n",
    "])\n",
    "\n",
    "model.compile(\n",
    "    optimizer=gradient_descent_v2.SGD(learning_rate=0.07),\n",
    "    # optimizer=adam_v2.Adam(learning_rate=0.07),\n",
    "    loss='mean_squared_error',)\n",
    "\n",
    "model.summary()"
   ]
  },
  {
   "cell_type": "code",
   "execution_count": null,
   "metadata": {},
   "outputs": [],
   "source": [
    "tstart = perf_counter()\n",
    "\n",
    "# history = model.fit(\n",
    "#     x_train,\n",
    "#     y_train,\n",
    "#     epochs=1000,\n",
    "#     validation_split = 0.1,\n",
    "#     callbacks=[EarlyStopping(monitor='loss', patience=5, restore_best_weights=True, min_delta=0.0001)]\n",
    "#     )\n",
    "\n",
    "l = []\n",
    "\n",
    "for i in range(200):\n",
    "    history = model.fit(\n",
    "        x_train,\n",
    "        y_train,\n",
    "        epochs=1,\n",
    "        validation_split = 0,\n",
    "        callbacks=[EarlyStopping(monitor='loss', patience=5, restore_best_weights=True, min_delta=0.0001)],\n",
    "        \n",
    "    )\n",
    "\n",
    "    l.append(history.history['loss'])\n",
    "\n",
    "    print(model.get_weights())\n",
    "\n",
    "print(f'\\n\\nexecution time: {perf_counter() - tstart}')"
   ]
  },
  {
   "cell_type": "code",
   "execution_count": null,
   "metadata": {},
   "outputs": [],
   "source": [
    "history.history"
   ]
  },
  {
   "cell_type": "code",
   "execution_count": null,
   "metadata": {},
   "outputs": [],
   "source": [
    "l"
   ]
  },
  {
   "cell_type": "code",
   "execution_count": null,
   "metadata": {},
   "outputs": [],
   "source": [
    "min(l)[0]"
   ]
  },
  {
   "cell_type": "code",
   "execution_count": null,
   "metadata": {},
   "outputs": [],
   "source": [
    "plt.plot([i[0] - min(l)[0] for i in l])\n",
    "# plt.xscale('log')\n",
    "plt.yscale('log')\n",
    "plt.show()"
   ]
  },
  {
   "cell_type": "code",
   "execution_count": null,
   "metadata": {},
   "outputs": [],
   "source": [
    "print(min(history.history['loss']), history.history['loss'].index(min(history.history['loss'])), sep = ' - ')"
   ]
  },
  {
   "cell_type": "code",
   "execution_count": null,
   "metadata": {},
   "outputs": [],
   "source": [
    "history.history"
   ]
  },
  {
   "cell_type": "code",
   "execution_count": null,
   "metadata": {},
   "outputs": [],
   "source": [
    "x_lin = tf.linspace(min(x_train.to_numpy()), max(x_train.to_numpy()), len(X))\n",
    "y_lin = model.predict(x_lin)"
   ]
  },
  {
   "cell_type": "code",
   "execution_count": null,
   "metadata": {},
   "outputs": [],
   "source": [
    "plt.scatter(X, Y)\n",
    "plt.plot(x_lin, y_lin, color='red')\n",
    "plt.show()"
   ]
  },
  {
   "cell_type": "code",
   "execution_count": null,
   "metadata": {},
   "outputs": [],
   "source": [
    "model.get_weights()"
   ]
  },
  {
   "cell_type": "code",
   "execution_count": null,
   "metadata": {},
   "outputs": [],
   "source": [
    "model.evaluate(x_test, y_test)"
   ]
  },
  {
   "cell_type": "code",
   "execution_count": null,
   "metadata": {},
   "outputs": [],
   "source": [
    "y_pred = model.predict(x_test)"
   ]
  },
  {
   "cell_type": "code",
   "execution_count": null,
   "metadata": {},
   "outputs": [],
   "source": [
    "mean_squared_error(\n",
    "    pd.DataFrame(y_test), pd.DataFrame(y_pred)\n",
    ")"
   ]
  },
  {
   "cell_type": "code",
   "execution_count": null,
   "metadata": {},
   "outputs": [],
   "source": [
    "data = pd.read_csv(f'dataset/dataset1.csv')\n",
    "x_eval = data['X']\n",
    "y_eval = data['Y']\n",
    "\n",
    "model.evaluate(x_eval, y_eval, return_dict = True)"
   ]
  },
  {
   "cell_type": "code",
   "execution_count": null,
   "metadata": {},
   "outputs": [],
   "source": [
    "plt.plot(history.history['loss'])"
   ]
  },
  {
   "cell_type": "code",
   "execution_count": null,
   "metadata": {},
   "outputs": [],
   "source": [
    "model.predict([1.474998454872067])"
   ]
  },
  {
   "cell_type": "code",
   "execution_count": null,
   "metadata": {},
   "outputs": [],
   "source": [
    "data = model.get_weights()\n",
    "\n",
    "data"
   ]
  }
 ],
 "metadata": {
  "interpreter": {
   "hash": "924b0b3b1fcf5df5e9cb084193999cb187e4cc45ebe7b1f6268f16e079d005a8"
  },
  "kernelspec": {
   "display_name": "Python 3.8.10 ('flwr-fl')",
   "language": "python",
   "name": "python3"
  },
  "language_info": {
   "codemirror_mode": {
    "name": "ipython",
    "version": 3
   },
   "file_extension": ".py",
   "mimetype": "text/x-python",
   "name": "python",
   "nbconvert_exporter": "python",
   "pygments_lexer": "ipython3",
   "version": "3.8.10"
  },
  "orig_nbformat": 4
 },
 "nbformat": 4,
 "nbformat_minor": 2
}
