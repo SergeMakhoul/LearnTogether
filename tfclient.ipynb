{
 "cells": [
  {
   "cell_type": "code",
   "execution_count": 139,
   "metadata": {},
   "outputs": [],
   "source": [
    "import json\n",
    "from time import perf_counter\n",
    "\n",
    "import pandas as pd\n",
    "import tensorflow as tf\n",
    "from matplotlib import pyplot as plt\n",
    "from sklearn.model_selection import train_test_split\n",
    "from tensorflow.python.keras import Model, Sequential\n",
    "from tensorflow.python.keras.callbacks import EarlyStopping\n",
    "from tensorflow.python.keras.layers import Dense, InputLayer\n",
    "from tensorflow.python.keras.metrics import mean_squared_error\n",
    "from tensorflow.python.keras.optimizers import gradient_descent_v2\n",
    "\n",
    "from utils import create_dataset"
   ]
  },
  {
   "cell_type": "code",
   "execution_count": 140,
   "metadata": {},
   "outputs": [],
   "source": [
    "with open(\"config.json\", \"r\") as f:\n",
    "    config = json.load(f)"
   ]
  },
  {
   "cell_type": "code",
   "execution_count": 141,
   "metadata": {},
   "outputs": [],
   "source": [
    "# data = pd.read_csv('dataset/dataset0.csv')\n",
    "# X, Y = data['X'], data['Y']\n",
    "data=config[\"data\"]\n",
    "X, Y = create_dataset(nb=data[\"number_of_samples\"], mean=data[\"mean\"], standard_deviation=data[\"standard_deviation\"])"
   ]
  },
  {
   "cell_type": "code",
   "execution_count": 142,
   "metadata": {},
   "outputs": [],
   "source": [
    "(x_train, x_test, y_train, y_test) = train_test_split(X, Y, train_size=0.8)"
   ]
  },
  {
   "cell_type": "code",
   "execution_count": 203,
   "metadata": {},
   "outputs": [
    {
     "name": "stdout",
     "output_type": "stream",
     "text": [
      "Model: \"sequential_9\"\n",
      "_________________________________________________________________\n",
      "Layer (type)                 Output Shape              Param #   \n",
      "=================================================================\n",
      "dense_9 (Dense)              (None, 1)                 2         \n",
      "=================================================================\n",
      "Total params: 2\n",
      "Trainable params: 2\n",
      "Non-trainable params: 0\n",
      "_________________________________________________________________\n"
     ]
    }
   ],
   "source": [
    "model: Model = Sequential([\n",
    "    InputLayer(input_shape=(1,)),\n",
    "    Dense(1)\n",
    "])\n",
    "\n",
    "model.compile(\n",
    "    optimizer=gradient_descent_v2.SGD(learning_rate=0.1),\n",
    "    loss='mean_squared_error',)\n",
    "\n",
    "model.summary()"
   ]
  },
  {
   "cell_type": "code",
   "execution_count": 204,
   "metadata": {},
   "outputs": [
    {
     "name": "stdout",
     "output_type": "stream",
     "text": [
      "Epoch 1/500\n",
      "1/1 [==============================] - 0s 274ms/step - loss: 132.7649 - val_loss: 9.8705\n",
      "Epoch 2/500\n",
      "1/1 [==============================] - 0s 19ms/step - loss: 75.1155 - val_loss: 8.3844\n",
      "Epoch 3/500\n",
      "1/1 [==============================] - 0s 22ms/step - loss: 46.5263 - val_loss: 6.4887\n",
      "Epoch 4/500\n",
      "1/1 [==============================] - 0s 25ms/step - loss: 31.5115 - val_loss: 4.6284\n",
      "Epoch 5/500\n",
      "1/1 [==============================] - 0s 24ms/step - loss: 22.9964 - val_loss: 3.0476\n",
      "Epoch 6/500\n",
      "1/1 [==============================] - 0s 24ms/step - loss: 17.7203 - val_loss: 1.8502\n",
      "Epoch 7/500\n",
      "1/1 [==============================] - 0s 21ms/step - loss: 14.1570 - val_loss: 1.0544\n",
      "Epoch 8/500\n",
      "1/1 [==============================] - 0s 22ms/step - loss: 11.5735 - val_loss: 0.6314\n",
      "Epoch 9/500\n",
      "1/1 [==============================] - 0s 23ms/step - loss: 9.6027 - val_loss: 0.5303\n",
      "Epoch 10/500\n",
      "1/1 [==============================] - 0s 26ms/step - loss: 8.0489 - val_loss: 0.6937\n",
      "Epoch 11/500\n",
      "1/1 [==============================] - ETA: 0s - loss: 6.799 - 0s 34ms/step - loss: 6.7993 - val_loss: 1.0652\n",
      "Epoch 12/500\n",
      "1/1 [==============================] - 0s 25ms/step - loss: 5.7827 - val_loss: 1.5941\n",
      "Epoch 13/500\n",
      "1/1 [==============================] - 0s 24ms/step - loss: 4.9503 - val_loss: 2.2365\n",
      "Epoch 14/500\n",
      "1/1 [==============================] - 0s 33ms/step - loss: 4.2662 - val_loss: 2.9561\n",
      "Epoch 15/500\n",
      "1/1 [==============================] - 0s 26ms/step - loss: 3.7029 - val_loss: 3.7233\n",
      "Epoch 16/500\n",
      "1/1 [==============================] - 0s 23ms/step - loss: 3.2385 - val_loss: 4.5145\n",
      "Epoch 17/500\n",
      "1/1 [==============================] - 0s 24ms/step - loss: 2.8554 - val_loss: 5.3115\n",
      "Epoch 18/500\n",
      "1/1 [==============================] - 0s 26ms/step - loss: 2.5394 - val_loss: 6.1001\n",
      "Epoch 19/500\n",
      "1/1 [==============================] - 0s 24ms/step - loss: 2.2785 - val_loss: 6.8699\n",
      "Epoch 20/500\n",
      "1/1 [==============================] - 0s 24ms/step - loss: 2.0632 - val_loss: 7.6134\n",
      "Epoch 21/500\n",
      "1/1 [==============================] - 0s 21ms/step - loss: 1.8855 - val_loss: 8.3252\n",
      "Epoch 22/500\n",
      "1/1 [==============================] - 0s 21ms/step - loss: 1.7388 - val_loss: 9.0019\n",
      "Epoch 23/500\n",
      "1/1 [==============================] - 0s 23ms/step - loss: 1.6177 - val_loss: 9.6414\n",
      "Epoch 24/500\n",
      "1/1 [==============================] - 0s 26ms/step - loss: 1.5178 - val_loss: 10.2428\n",
      "Epoch 25/500\n",
      "1/1 [==============================] - 0s 24ms/step - loss: 1.4353 - val_loss: 10.8060\n",
      "Epoch 26/500\n",
      "1/1 [==============================] - 0s 22ms/step - loss: 1.3672 - val_loss: 11.3316\n",
      "Epoch 27/500\n",
      "1/1 [==============================] - 0s 26ms/step - loss: 1.3110 - val_loss: 11.8205\n",
      "Epoch 28/500\n",
      "1/1 [==============================] - 0s 20ms/step - loss: 1.2646 - val_loss: 12.2742\n",
      "Epoch 29/500\n",
      "1/1 [==============================] - 0s 21ms/step - loss: 1.2263 - val_loss: 12.6942\n",
      "Epoch 30/500\n",
      "1/1 [==============================] - 0s 22ms/step - loss: 1.1946 - val_loss: 13.0821\n",
      "Epoch 31/500\n",
      "1/1 [==============================] - 0s 25ms/step - loss: 1.1685 - val_loss: 13.4399\n",
      "Epoch 32/500\n",
      "1/1 [==============================] - 0s 22ms/step - loss: 1.1470 - val_loss: 13.7694\n",
      "Epoch 33/500\n",
      "1/1 [==============================] - 0s 26ms/step - loss: 1.1292 - val_loss: 14.0723\n",
      "Epoch 34/500\n",
      "1/1 [==============================] - 0s 22ms/step - loss: 1.1145 - val_loss: 14.3505\n",
      "Epoch 35/500\n",
      "1/1 [==============================] - 0s 25ms/step - loss: 1.1024 - val_loss: 14.6058\n",
      "Epoch 36/500\n",
      "1/1 [==============================] - 0s 21ms/step - loss: 1.0924 - val_loss: 14.8397\n",
      "Epoch 37/500\n",
      "1/1 [==============================] - 0s 23ms/step - loss: 1.0841 - val_loss: 15.0539\n",
      "Epoch 38/500\n",
      "1/1 [==============================] - 0s 23ms/step - loss: 1.0773 - val_loss: 15.2499\n",
      "Epoch 39/500\n",
      "1/1 [==============================] - 0s 23ms/step - loss: 1.0717 - val_loss: 15.4291\n",
      "Epoch 40/500\n",
      "1/1 [==============================] - 0s 22ms/step - loss: 1.0670 - val_loss: 15.5928\n",
      "Epoch 41/500\n",
      "1/1 [==============================] - 0s 19ms/step - loss: 1.0632 - val_loss: 15.7424\n",
      "Epoch 42/500\n",
      "1/1 [==============================] - 0s 21ms/step - loss: 1.0601 - val_loss: 15.8789\n",
      "Epoch 43/500\n",
      "1/1 [==============================] - 0s 25ms/step - loss: 1.0574 - val_loss: 16.0035\n",
      "Epoch 44/500\n",
      "1/1 [==============================] - 0s 23ms/step - loss: 1.0553 - val_loss: 16.1171\n",
      "Epoch 45/500\n",
      "1/1 [==============================] - 0s 23ms/step - loss: 1.0535 - val_loss: 16.2207\n",
      "Epoch 46/500\n",
      "1/1 [==============================] - 0s 19ms/step - loss: 1.0520 - val_loss: 16.3151\n",
      "Epoch 47/500\n",
      "1/1 [==============================] - 0s 23ms/step - loss: 1.0508 - val_loss: 16.4011\n",
      "Epoch 48/500\n",
      "1/1 [==============================] - 0s 21ms/step - loss: 1.0498 - val_loss: 16.4795\n",
      "Epoch 49/500\n",
      "1/1 [==============================] - 0s 21ms/step - loss: 1.0490 - val_loss: 16.5509\n",
      "Epoch 50/500\n",
      "1/1 [==============================] - 0s 20ms/step - loss: 1.0483 - val_loss: 16.6158\n",
      "Epoch 51/500\n",
      "1/1 [==============================] - 0s 20ms/step - loss: 1.0477 - val_loss: 16.6750\n",
      "Epoch 52/500\n",
      "1/1 [==============================] - 0s 22ms/step - loss: 1.0473 - val_loss: 16.7288\n",
      "Epoch 53/500\n",
      "1/1 [==============================] - 0s 25ms/step - loss: 1.0469 - val_loss: 16.7778\n",
      "Epoch 54/500\n",
      "1/1 [==============================] - 0s 20ms/step - loss: 1.0466 - val_loss: 16.8224\n",
      "Epoch 55/500\n",
      "1/1 [==============================] - 0s 22ms/step - loss: 1.0463 - val_loss: 16.8629\n",
      "Epoch 56/500\n",
      "1/1 [==============================] - 0s 20ms/step - loss: 1.0461 - val_loss: 16.8998\n",
      "Epoch 57/500\n",
      "1/1 [==============================] - 0s 22ms/step - loss: 1.0459 - val_loss: 16.9334\n",
      "Epoch 58/500\n",
      "1/1 [==============================] - 0s 23ms/step - loss: 1.0458 - val_loss: 16.9639\n",
      "Epoch 59/500\n",
      "1/1 [==============================] - 0s 20ms/step - loss: 1.0457 - val_loss: 16.9916\n",
      "Epoch 60/500\n",
      "1/1 [==============================] - 0s 21ms/step - loss: 1.0456 - val_loss: 17.0169\n",
      "Epoch 61/500\n",
      "1/1 [==============================] - 0s 24ms/step - loss: 1.0455 - val_loss: 17.0398\n",
      "\n",
      "\n",
      "execution time: 1.8389139999999315\n"
     ]
    }
   ],
   "source": [
    "tstart = perf_counter()\n",
    "\n",
    "history = model.fit(\n",
    "    x_train,\n",
    "    y_train,\n",
    "    epochs=500,\n",
    "    validation_split = 0.2,\n",
    "    callbacks=[EarlyStopping(monitor='loss', patience=5, restore_best_weights=True, min_delta=0.001)]\n",
    "    )\n",
    "\n",
    "print(f'\\n\\nexecution time: {perf_counter() - tstart}')"
   ]
  },
  {
   "cell_type": "code",
   "execution_count": 205,
   "metadata": {},
   "outputs": [],
   "source": [
    "x_lin = tf.linspace(min(x_train.to_numpy()), max(x_train.to_numpy()), len(X))\n",
    "y_lin = model.predict(x_lin)"
   ]
  },
  {
   "cell_type": "code",
   "execution_count": 206,
   "metadata": {},
   "outputs": [
    {
     "data": {
      "image/png": "[encoded data removed]",
      "text/plain": [
       "<Figure size 432x288 with 1 Axes>"
      ]
     },
     "metadata": {
      "needs_background": "light"
     },
     "output_type": "display_data"
    }
   ],
   "source": [
    "plt.scatter(X, Y)\n",
    "plt.plot(x_lin, y_lin, color='red')\n",
    "plt.show()"
   ]
  },
  {
   "cell_type": "code",
   "execution_count": 207,
   "metadata": {},
   "outputs": [
    {
     "data": {
      "text/plain": [
       "[array([[11.484939]], dtype=float32), array([1.6562294], dtype=float32)]"
      ]
     },
     "execution_count": 207,
     "metadata": {},
     "output_type": "execute_result"
    }
   ],
   "source": [
    "model.get_weights()"
   ]
  },
  {
   "cell_type": "code",
   "execution_count": 208,
   "metadata": {},
   "outputs": [
    {
     "name": "stdout",
     "output_type": "stream",
     "text": [
      "1/1 [==============================] - 0s 21ms/step - loss: 7.7996\n"
     ]
    },
    {
     "data": {
      "text/plain": [
       "7.79960298538208"
      ]
     },
     "execution_count": 208,
     "metadata": {},
     "output_type": "execute_result"
    }
   ],
   "source": [
    "model.evaluate(x_test, y_test)"
   ]
  },
  {
   "cell_type": "code",
   "execution_count": 209,
   "metadata": {},
   "outputs": [],
   "source": [
    "y_pred = model.predict(x_test)"
   ]
  },
  {
   "cell_type": "code",
   "execution_count": 210,
   "metadata": {},
   "outputs": [
    {
     "data": {
      "text/plain": [
       "<tf.Tensor: shape=(2,), dtype=float32, numpy=array([14.635121,  0.964085], dtype=float32)>"
      ]
     },
     "execution_count": 210,
     "metadata": {},
     "output_type": "execute_result"
    }
   ],
   "source": [
    "mean_squared_error(\n",
    "    pd.DataFrame(y_test), pd.DataFrame(y_pred)\n",
    ")"
   ]
  },
  {
   "cell_type": "code",
   "execution_count": 211,
   "metadata": {},
   "outputs": [
    {
     "name": "stdout",
     "output_type": "stream",
     "text": [
      "1/1 [==============================] - 0s 57ms/step - loss: 4467.5078\n"
     ]
    },
    {
     "data": {
      "text/plain": [
       "{'loss': 4467.5078125}"
      ]
     },
     "execution_count": 211,
     "metadata": {},
     "output_type": "execute_result"
    }
   ],
   "source": [
    "data = pd.read_csv(f'dataset/dataset1.csv')\n",
    "x_eval = data['X']\n",
    "y_eval = data['Y']\n",
    "\n",
    "model.evaluate(x_eval, y_eval, return_dict = True)"
   ]
  },
  {
   "cell_type": "code",
   "execution_count": 212,
   "metadata": {},
   "outputs": [
    {
     "data": {
      "text/plain": [
       "[<matplotlib.lines.Line2D at 0x1725b0c5ca0>]"
      ]
     },
     "execution_count": 212,
     "metadata": {},
     "output_type": "execute_result"
    },
    {
     "data": {
      "image/png": "[encoded data removed]",
      "text/plain": [
       "<Figure size 432x288 with 1 Axes>"
      ]
     },
     "metadata": {
      "needs_background": "light"
     },
     "output_type": "display_data"
    }
   ],
   "source": [
    "plt.plot(history.history['loss'])"
   ]
  },
  {
   "cell_type": "code",
   "execution_count": 213,
   "metadata": {},
   "outputs": [
    {
     "data": {
      "text/plain": [
       "array([[18.596497]], dtype=float32)"
      ]
     },
     "execution_count": 213,
     "metadata": {},
     "output_type": "execute_result"
    }
   ],
   "source": [
    "model.predict([1.474998454872067])"
   ]
  },
  {
   "cell_type": "code",
   "execution_count": 214,
   "metadata": {},
   "outputs": [
    {
     "data": {
      "text/plain": [
       "[array([[11.484939]], dtype=float32), array([1.6562294], dtype=float32)]"
      ]
     },
     "execution_count": 214,
     "metadata": {},
     "output_type": "execute_result"
    }
   ],
   "source": [
    "data = model.get_weights()\n",
    "\n",
    "data"
   ]
  }
 ],
 "metadata": {
  "interpreter": {
   "hash": "924b0b3b1fcf5df5e9cb084193999cb187e4cc45ebe7b1f6268f16e079d005a8"
  },
  "kernelspec": {
   "display_name": "Python 3.8.10 ('flwr-fl')",
   "language": "python",
   "name": "python3"
  },
  "language_info": {
   "codemirror_mode": {
    "name": "ipython",
    "version": 3
   },
   "file_extension": ".py",
   "mimetype": "text/x-python",
   "name": "python",
   "nbconvert_exporter": "python",
   "pygments_lexer": "ipython3",
   "version": "3.8.10"
  },
  "orig_nbformat": 4
 },
 "nbformat": 4,
 "nbformat_minor": 2
}
