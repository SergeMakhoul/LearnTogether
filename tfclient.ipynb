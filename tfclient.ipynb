{
 "cells": [
  {
   "cell_type": "code",
   "execution_count": 15,
   "metadata": {},
   "outputs": [],
   "source": [
    "import numpy as np\n",
    "import pandas as pd\n",
    "import tensorflow as tf\n",
    "from matplotlib import pyplot as plt\n",
    "from sklearn.model_selection import train_test_split\n",
    "from tensorflow.python.keras import Model, Sequential\n",
    "from tensorflow.python.keras.callbacks import EarlyStopping\n",
    "from tensorflow.python.keras.layers import Dense, InputLayer\n",
    "from tensorflow.python.keras.metrics import mean_squared_error\n",
    "from tensorflow.python.keras.optimizers import gradient_descent_v2\n",
    "\n",
    "from dataset.create_dataset import create_dataset\n"
   ]
  },
  {
   "cell_type": "code",
   "execution_count": 53,
   "metadata": {},
   "outputs": [
    {
     "data": {
      "text/plain": [
       "<matplotlib.collections.PathCollection at 0x29b4227ee50>"
      ]
     },
     "execution_count": 53,
     "metadata": {},
     "output_type": "execute_result"
    },
    {
     "data": {
      "image/png": "[encoded data removed]",
      "text/plain": [
       "<Figure size 432x288 with 1 Axes>"
      ]
     },
     "metadata": {
      "needs_background": "light"
     },
     "output_type": "display_data"
    }
   ],
   "source": [
    "# X1, Y1 = create_dataset(nb=100)\n",
    "# X2, Y2 = create_dataset(nb=100)\n",
    "# X3, Y3 = create_dataset(nb=100)\n",
    "\n",
    "# X, Y = pd.concat([X1, X2, X3]), pd.concat([Y1, Y2, Y3])\n",
    "\n",
    "data = pd.read_csv('dataset/dataset.csv')\n",
    "X, Y = data['X'], data['Y']\n",
    "\n",
    "# X = np.linspace(0, 10, 100)\n",
    "# Y = X + np.random.normal(0,1,100)\n",
    "\n",
    "plt.scatter(X, Y)"
   ]
  },
  {
   "cell_type": "code",
   "execution_count": 54,
   "metadata": {},
   "outputs": [],
   "source": [
    "# (x_train, x_test, y_train, y_test) = train_test_split(X.to_numpy(), Y.to_numpy(), train_size=0.75)\n",
    "(x_train, x_test, y_train, y_test) = train_test_split(X, Y, train_size=0.75)"
   ]
  },
  {
   "cell_type": "code",
   "execution_count": 55,
   "metadata": {},
   "outputs": [
    {
     "name": "stdout",
     "output_type": "stream",
     "text": [
      "Model: \"sequential_2\"\n",
      "_________________________________________________________________\n",
      "Layer (type)                 Output Shape              Param #   \n",
      "=================================================================\n",
      "dense_2 (Dense)              (None, 1)                 2         \n",
      "=================================================================\n",
      "Total params: 2\n",
      "Trainable params: 2\n",
      "Non-trainable params: 0\n",
      "_________________________________________________________________\n"
     ]
    }
   ],
   "source": [
    "model: Model = Sequential([\n",
    "    InputLayer(input_shape=(1,)),\n",
    "    Dense(1)\n",
    "])\n",
    "\n",
    "model.compile(\n",
    "    optimizer=gradient_descent_v2.SGD(learning_rate=0.01),\n",
    "    loss='mean_squared_error',)\n",
    "\n",
    "model.summary()"
   ]
  },
  {
   "cell_type": "code",
   "execution_count": 63,
   "metadata": {},
   "outputs": [
    {
     "name": "stdout",
     "output_type": "stream",
     "text": [
      "Epoch 1/100\n",
      "2/2 [==============================] - 0s 43ms/step - loss: 10.1625 - val_loss: 11.5786\n",
      "Epoch 2/100\n",
      "2/2 [==============================] - 0s 21ms/step - loss: 10.0996 - val_loss: 11.5837\n",
      "Epoch 3/100\n",
      "2/2 [==============================] - 0s 24ms/step - loss: 10.0457 - val_loss: 11.5877\n",
      "Epoch 4/100\n",
      "2/2 [==============================] - 0s 24ms/step - loss: 10.0089 - val_loss: 11.5965\n",
      "Epoch 5/100\n",
      "2/2 [==============================] - 0s 21ms/step - loss: 9.9586 - val_loss: 11.6030\n",
      "Epoch 6/100\n",
      "2/2 [==============================] - 0s 26ms/step - loss: 9.9296 - val_loss: 11.6069\n",
      "Epoch 7/100\n",
      "2/2 [==============================] - 0s 30ms/step - loss: 9.8949 - val_loss: 11.6135\n",
      "Epoch 8/100\n",
      "2/2 [==============================] - 0s 26ms/step - loss: 9.8681 - val_loss: 11.6192\n",
      "Epoch 9/100\n",
      "2/2 [==============================] - 0s 25ms/step - loss: 9.8448 - val_loss: 11.6259\n",
      "Epoch 10/100\n",
      "2/2 [==============================] - 0s 63ms/step - loss: 9.8298 - val_loss: 11.6309\n",
      "Epoch 11/100\n",
      "2/2 [==============================] - 0s 25ms/step - loss: 9.8027 - val_loss: 11.6402\n",
      "Epoch 12/100\n",
      "2/2 [==============================] - 0s 26ms/step - loss: 9.7847 - val_loss: 11.6452\n",
      "Epoch 13/100\n",
      "2/2 [==============================] - 0s 30ms/step - loss: 9.7820 - val_loss: 11.6571\n",
      "Epoch 14/100\n",
      "2/2 [==============================] - 0s 38ms/step - loss: 9.7594 - val_loss: 11.6612\n",
      "Epoch 15/100\n",
      "2/2 [==============================] - 0s 28ms/step - loss: 9.7507 - val_loss: 11.6692\n",
      "Epoch 16/100\n",
      "2/2 [==============================] - 0s 23ms/step - loss: 9.7331 - val_loss: 11.6767\n",
      "Epoch 17/100\n",
      "2/2 [==============================] - 0s 20ms/step - loss: 9.7233 - val_loss: 11.6816\n",
      "Epoch 18/100\n",
      "2/2 [==============================] - 0s 26ms/step - loss: 9.7184 - val_loss: 11.6858\n",
      "Epoch 19/100\n",
      "2/2 [==============================] - 0s 23ms/step - loss: 9.7126 - val_loss: 11.6944\n",
      "Epoch 20/100\n",
      "2/2 [==============================] - 0s 24ms/step - loss: 9.7126 - val_loss: 11.6944\n",
      "Epoch 21/100\n",
      "2/2 [==============================] - 0s 24ms/step - loss: 9.6953 - val_loss: 11.6996\n",
      "Epoch 22/100\n",
      "2/2 [==============================] - 0s 20ms/step - loss: 9.6902 - val_loss: 11.7053\n",
      "Epoch 23/100\n",
      "2/2 [==============================] - 0s 21ms/step - loss: 9.6927 - val_loss: 11.7055\n",
      "Epoch 24/100\n",
      "2/2 [==============================] - 0s 22ms/step - loss: 9.6906 - val_loss: 11.7054\n",
      "Epoch 25/100\n",
      "2/2 [==============================] - 0s 22ms/step - loss: 9.6886 - val_loss: 11.7049\n",
      "Epoch 26/100\n",
      "2/2 [==============================] - 0s 19ms/step - loss: 9.6754 - val_loss: 11.7091\n",
      "Epoch 27/100\n",
      "2/2 [==============================] - 0s 22ms/step - loss: 9.6858 - val_loss: 11.7138\n",
      "Epoch 28/100\n",
      "2/2 [==============================] - 0s 22ms/step - loss: 9.6675 - val_loss: 11.7181\n",
      "Epoch 29/100\n",
      "2/2 [==============================] - 0s 21ms/step - loss: 9.6657 - val_loss: 11.7214\n",
      "Epoch 30/100\n",
      "2/2 [==============================] - 0s 30ms/step - loss: 9.6646 - val_loss: 11.7236\n",
      "Epoch 31/100\n",
      "2/2 [==============================] - 0s 23ms/step - loss: 9.6755 - val_loss: 11.7211\n",
      "Epoch 32/100\n",
      "2/2 [==============================] - 0s 22ms/step - loss: 9.6748 - val_loss: 11.7292\n",
      "Epoch 33/100\n",
      "2/2 [==============================] - 0s 25ms/step - loss: 9.6720 - val_loss: 11.7280\n",
      "Epoch 34/100\n",
      "2/2 [==============================] - 0s 25ms/step - loss: 9.6630 - val_loss: 11.7307\n",
      "Epoch 35/100\n",
      "2/2 [==============================] - 0s 23ms/step - loss: 9.6618 - val_loss: 11.7370\n",
      "Epoch 36/100\n",
      "2/2 [==============================] - 0s 23ms/step - loss: 9.6629 - val_loss: 11.7368\n",
      "Epoch 37/100\n",
      "2/2 [==============================] - 0s 22ms/step - loss: 9.6527 - val_loss: 11.7393\n",
      "Epoch 38/100\n",
      "2/2 [==============================] - 0s 22ms/step - loss: 9.6563 - val_loss: 11.7411\n",
      "Epoch 39/100\n",
      "2/2 [==============================] - 0s 21ms/step - loss: 9.6534 - val_loss: 11.7447\n",
      "Epoch 40/100\n",
      "2/2 [==============================] - 0s 23ms/step - loss: 9.6508 - val_loss: 11.7452\n",
      "Epoch 41/100\n",
      "2/2 [==============================] - 0s 22ms/step - loss: 9.6497 - val_loss: 11.7462\n",
      "Epoch 42/100\n",
      "2/2 [==============================] - 0s 24ms/step - loss: 9.6660 - val_loss: 11.7471\n",
      "Epoch 43/100\n",
      "2/2 [==============================] - 0s 25ms/step - loss: 9.6520 - val_loss: 11.7470\n",
      "Epoch 44/100\n",
      "2/2 [==============================] - 0s 26ms/step - loss: 9.6542 - val_loss: 11.7501\n",
      "Epoch 45/100\n",
      "2/2 [==============================] - 0s 27ms/step - loss: 9.6506 - val_loss: 11.7497\n",
      "Epoch 46/100\n",
      "2/2 [==============================] - 0s 26ms/step - loss: 9.6588 - val_loss: 11.7472\n",
      "Epoch 47/100\n",
      "2/2 [==============================] - 0s 23ms/step - loss: 9.6508 - val_loss: 11.7482\n",
      "Epoch 48/100\n",
      "2/2 [==============================] - 0s 22ms/step - loss: 9.6486 - val_loss: 11.7490\n",
      "Epoch 49/100\n",
      "2/2 [==============================] - 0s 31ms/step - loss: 9.6528 - val_loss: 11.7470\n",
      "Epoch 50/100\n",
      "2/2 [==============================] - 0s 22ms/step - loss: 9.6627 - val_loss: 11.7523\n",
      "Epoch 51/100\n",
      "2/2 [==============================] - 0s 26ms/step - loss: 9.6506 - val_loss: 11.7557\n",
      "Epoch 52/100\n",
      "2/2 [==============================] - 0s 24ms/step - loss: 9.6514 - val_loss: 11.7533\n",
      "Epoch 53/100\n",
      "2/2 [==============================] - 0s 21ms/step - loss: 9.6554 - val_loss: 11.7529\n",
      "Epoch 54/100\n",
      "2/2 [==============================] - 0s 22ms/step - loss: 9.6491 - val_loss: 11.7528\n",
      "Epoch 55/100\n",
      "2/2 [==============================] - 0s 25ms/step - loss: 9.6484 - val_loss: 11.7518\n",
      "Epoch 56/100\n",
      "2/2 [==============================] - 0s 21ms/step - loss: 9.6546 - val_loss: 11.7479\n",
      "Epoch 57/100\n",
      "2/2 [==============================] - 0s 24ms/step - loss: 9.6492 - val_loss: 11.7488\n",
      "Epoch 58/100\n",
      "2/2 [==============================] - 0s 21ms/step - loss: 9.6515 - val_loss: 11.7463\n",
      "Epoch 59/100\n",
      "2/2 [==============================] - 0s 24ms/step - loss: 9.6537 - val_loss: 11.7510\n",
      "Epoch 60/100\n",
      "2/2 [==============================] - 0s 22ms/step - loss: 9.6517 - val_loss: 11.7538\n",
      "Epoch 61/100\n",
      "2/2 [==============================] - 0s 23ms/step - loss: 9.6501 - val_loss: 11.7545\n",
      "Epoch 62/100\n",
      "2/2 [==============================] - 0s 39ms/step - loss: 9.6532 - val_loss: 11.7559\n",
      "Epoch 63/100\n",
      "2/2 [==============================] - 0s 35ms/step - loss: 9.6472 - val_loss: 11.7566\n",
      "Epoch 64/100\n",
      "2/2 [==============================] - 0s 26ms/step - loss: 9.6467 - val_loss: 11.7550\n",
      "Epoch 65/100\n",
      "2/2 [==============================] - 0s 27ms/step - loss: 9.6639 - val_loss: 11.7607\n",
      "Epoch 66/100\n",
      "2/2 [==============================] - 0s 24ms/step - loss: 9.6571 - val_loss: 11.7656\n",
      "Epoch 67/100\n",
      "2/2 [==============================] - 0s 22ms/step - loss: 9.6464 - val_loss: 11.7667\n",
      "Epoch 68/100\n",
      "2/2 [==============================] - 0s 18ms/step - loss: 9.6565 - val_loss: 11.7709\n",
      "Epoch 69/100\n",
      "2/2 [==============================] - 0s 19ms/step - loss: 9.6577 - val_loss: 11.7736\n",
      "Epoch 70/100\n",
      "2/2 [==============================] - 0s 23ms/step - loss: 9.6481 - val_loss: 11.7712\n",
      "Epoch 71/100\n",
      "2/2 [==============================] - 0s 22ms/step - loss: 9.6460 - val_loss: 11.7695\n",
      "Epoch 72/100\n",
      "2/2 [==============================] - 0s 25ms/step - loss: 9.6496 - val_loss: 11.7667\n",
      "Epoch 73/100\n",
      "2/2 [==============================] - 0s 20ms/step - loss: 9.6465 - val_loss: 11.7656\n",
      "Epoch 74/100\n",
      "2/2 [==============================] - 0s 27ms/step - loss: 9.6491 - val_loss: 11.7681\n",
      "Epoch 75/100\n",
      "2/2 [==============================] - 0s 25ms/step - loss: 9.6644 - val_loss: 11.7731\n",
      "Epoch 76/100\n",
      "2/2 [==============================] - 0s 23ms/step - loss: 9.6461 - val_loss: 11.7736\n",
      "Epoch 77/100\n",
      "2/2 [==============================] - 0s 22ms/step - loss: 9.6500 - val_loss: 11.7746\n",
      "Epoch 78/100\n",
      "2/2 [==============================] - 0s 22ms/step - loss: 9.6500 - val_loss: 11.7764\n",
      "Epoch 79/100\n",
      "2/2 [==============================] - 0s 23ms/step - loss: 9.6522 - val_loss: 11.7758\n",
      "Epoch 80/100\n",
      "2/2 [==============================] - 0s 22ms/step - loss: 9.6511 - val_loss: 11.7755\n",
      "Epoch 81/100\n",
      "2/2 [==============================] - 0s 25ms/step - loss: 9.6538 - val_loss: 11.7775\n",
      "Epoch 82/100\n",
      "2/2 [==============================] - 0s 23ms/step - loss: 9.6616 - val_loss: 11.7730\n",
      "Epoch 83/100\n",
      "2/2 [==============================] - 0s 23ms/step - loss: 9.6684 - val_loss: 11.7788\n",
      "Epoch 84/100\n",
      "2/2 [==============================] - 0s 24ms/step - loss: 9.6689 - val_loss: 11.7716\n",
      "Epoch 85/100\n",
      "2/2 [==============================] - 0s 21ms/step - loss: 9.6456 - val_loss: 11.7704\n",
      "Epoch 86/100\n",
      "2/2 [==============================] - 0s 21ms/step - loss: 9.6455 - val_loss: 11.7701\n",
      "Epoch 87/100\n",
      "2/2 [==============================] - 0s 24ms/step - loss: 9.6468 - val_loss: 11.7678\n",
      "Epoch 88/100\n",
      "2/2 [==============================] - 0s 24ms/step - loss: 9.6555 - val_loss: 11.7624\n",
      "Epoch 89/100\n",
      "2/2 [==============================] - 0s 23ms/step - loss: 9.6550 - val_loss: 11.7593\n",
      "Epoch 90/100\n",
      "2/2 [==============================] - 0s 20ms/step - loss: 9.6503 - val_loss: 11.7557\n",
      "Epoch 91/100\n",
      "2/2 [==============================] - 0s 21ms/step - loss: 9.6471 - val_loss: 11.7537\n",
      "Epoch 92/100\n",
      "2/2 [==============================] - 0s 23ms/step - loss: 9.6541 - val_loss: 11.7511\n",
      "Epoch 93/100\n",
      "2/2 [==============================] - 0s 23ms/step - loss: 9.6461 - val_loss: 11.7523\n",
      "Epoch 94/100\n",
      "2/2 [==============================] - 0s 23ms/step - loss: 9.6478 - val_loss: 11.7499\n",
      "Epoch 95/100\n",
      "2/2 [==============================] - 0s 23ms/step - loss: 9.6574 - val_loss: 11.7535\n",
      "Epoch 96/100\n",
      "2/2 [==============================] - 0s 22ms/step - loss: 9.6495 - val_loss: 11.7507\n",
      "Epoch 97/100\n",
      "2/2 [==============================] - 0s 22ms/step - loss: 9.6539 - val_loss: 11.7552\n",
      "Epoch 98/100\n",
      "2/2 [==============================] - 0s 24ms/step - loss: 9.6475 - val_loss: 11.7568\n",
      "Epoch 99/100\n",
      "2/2 [==============================] - 0s 25ms/step - loss: 9.6519 - val_loss: 11.7558\n",
      "Epoch 100/100\n",
      "2/2 [==============================] - 0s 22ms/step - loss: 9.6493 - val_loss: 11.7541\n"
     ]
    }
   ],
   "source": [
    "history = model.fit(\n",
    "    x_train,\n",
    "    y_train,\n",
    "    epochs=100,\n",
    "    validation_split = 0.2,\n",
    "    # callbacks=[EarlyStopping(monitor='val_loss', patience=5, restore_best_weights=True)]\n",
    "    )"
   ]
  },
  {
   "cell_type": "code",
   "execution_count": 64,
   "metadata": {},
   "outputs": [],
   "source": [
    "x_lin = tf.linspace(min(x_train), max(x_train), len(X))\n",
    "y_lin = model.predict(x_lin)"
   ]
  },
  {
   "cell_type": "code",
   "execution_count": 65,
   "metadata": {},
   "outputs": [
    {
     "data": {
      "image/png": "[encoded data removed]",
      "text/plain": [
       "<Figure size 432x288 with 1 Axes>"
      ]
     },
     "metadata": {
      "needs_background": "light"
     },
     "output_type": "display_data"
    }
   ],
   "source": [
    "plt.scatter(X, Y)\n",
    "plt.plot(x_lin, y_lin, color='red')\n",
    "plt.show()"
   ]
  },
  {
   "cell_type": "code",
   "execution_count": 66,
   "metadata": {},
   "outputs": [
    {
     "data": {
      "text/plain": [
       "[array([[0.13868032]], dtype=float32), array([-0.17711891], dtype=float32)]"
      ]
     },
     "execution_count": 66,
     "metadata": {},
     "output_type": "execute_result"
    }
   ],
   "source": [
    "model.get_weights()"
   ]
  },
  {
   "cell_type": "code",
   "execution_count": 67,
   "metadata": {},
   "outputs": [
    {
     "name": "stdout",
     "output_type": "stream",
     "text": [
      "1/1 [==============================] - 0s 19ms/step - loss: 9.0711\n"
     ]
    },
    {
     "data": {
      "text/plain": [
       "9.071096420288086"
      ]
     },
     "execution_count": 67,
     "metadata": {},
     "output_type": "execute_result"
    }
   ],
   "source": [
    "model.evaluate(x_test, y_test)"
   ]
  },
  {
   "cell_type": "code",
   "execution_count": 68,
   "metadata": {},
   "outputs": [],
   "source": [
    "y_pred = model.predict(x_test)"
   ]
  },
  {
   "cell_type": "code",
   "execution_count": 69,
   "metadata": {},
   "outputs": [
    {
     "data": {
      "text/plain": [
       "<tf.Tensor: shape=(26,), dtype=float32, numpy=\n",
       "array([2.29150372e+01, 2.27388096e+00, 3.38720822e+00, 1.21324987e+01,\n",
       "       2.91588879e+01, 3.11440080e-01, 4.46269417e+01, 5.96788454e+00,\n",
       "       2.52728672e+01, 3.06156486e-01, 1.08113270e+01, 1.93730831e+01,\n",
       "       6.73399544e+00, 5.63811004e-01, 4.30970162e-04, 1.61699543e+01,\n",
       "       1.88542342e+00, 8.58632088e+00, 1.69348168e+00, 1.06177375e-01,\n",
       "       3.84291440e-01, 7.03288913e-01, 1.56305585e-04, 1.60348091e+01,\n",
       "       1.61514595e-01, 6.28763580e+00], dtype=float32)>"
      ]
     },
     "execution_count": 69,
     "metadata": {},
     "output_type": "execute_result"
    }
   ],
   "source": [
    "mean_squared_error(\n",
    "    pd.DataFrame(y_test), pd.DataFrame(y_pred)\n",
    ")"
   ]
  }
 ],
 "metadata": {
  "interpreter": {
   "hash": "924b0b3b1fcf5df5e9cb084193999cb187e4cc45ebe7b1f6268f16e079d005a8"
  },
  "kernelspec": {
   "display_name": "Python 3.8.10 ('flwr-fl')",
   "language": "python",
   "name": "python3"
  },
  "language_info": {
   "codemirror_mode": {
    "name": "ipython",
    "version": 3
   },
   "file_extension": ".py",
   "mimetype": "text/x-python",
   "name": "python",
   "nbconvert_exporter": "python",
   "pygments_lexer": "ipython3",
   "version": "3.8.10"
  },
  "orig_nbformat": 4
 },
 "nbformat": 4,
 "nbformat_minor": 2
}
