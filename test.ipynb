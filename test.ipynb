{
 "cells": [
  {
   "cell_type": "code",
   "execution_count": null,
   "metadata": {},
   "outputs": [],
   "source": [
    "import json\n",
    "import os\n",
    "import pickle\n",
    "import statistics\n",
    "\n",
    "from matplotlib import pyplot as plt\n",
    "from scipy.stats import norm, t\n",
    "\n",
    "from utils import average_server, average_simulation\n"
   ]
  },
  {
   "cell_type": "code",
   "execution_count": null,
   "metadata": {},
   "outputs": [],
   "source": [
    "TESTS_DIRECTORY = 'tests_average'\n",
    "SIMULATION_DIRECTORY = 'simulation'"
   ]
  },
  {
   "cell_type": "code",
   "execution_count": null,
   "metadata": {},
   "outputs": [],
   "source": [
    "with open('config.json', 'r') as input:\n",
    "    config = json.load(input)"
   ]
  },
  {
   "cell_type": "code",
   "execution_count": null,
   "metadata": {},
   "outputs": [],
   "source": [
    "test_number = len(os.listdir(TESTS_DIRECTORY))"
   ]
  },
  {
   "cell_type": "markdown",
   "metadata": {},
   "source": [
    "<style>\n",
    "    h1 {\n",
    "        text-align: center;\n",
    "    }\n",
    "</style>\n",
    "\n",
    "\n",
    "# Averaging the simulation for the clients"
   ]
  },
  {
   "cell_type": "code",
   "execution_count": null,
   "metadata": {},
   "outputs": [],
   "source": [
    "average = average_simulation()\n",
    "\n",
    "average"
   ]
  },
  {
   "cell_type": "code",
   "execution_count": null,
   "metadata": {},
   "outputs": [],
   "source": [
    "min(average['loss'])"
   ]
  },
  {
   "cell_type": "code",
   "execution_count": null,
   "metadata": {},
   "outputs": [],
   "source": [
    "plt.plot(average['loss'])\n",
    "plt.show()"
   ]
  },
  {
   "cell_type": "markdown",
   "metadata": {},
   "source": [
    "<style>\n",
    "    h1 {\n",
    "        text-align: center;\n",
    "    }\n",
    "</style>\n",
    "\n",
    "\n",
    "# Averaging the simulation for the server"
   ]
  },
  {
   "cell_type": "code",
   "execution_count": null,
   "metadata": {},
   "outputs": [],
   "source": [
    "server_average = average_server()\n",
    "\n",
    "server_average"
   ]
  },
  {
   "cell_type": "code",
   "execution_count": null,
   "metadata": {},
   "outputs": [],
   "source": [
    "min(server_average['loss'])"
   ]
  },
  {
   "cell_type": "code",
   "execution_count": null,
   "metadata": {},
   "outputs": [],
   "source": [
    "plt.plot(server_average['loss'])\n",
    "plt.show()"
   ]
  },
  {
   "cell_type": "markdown",
   "metadata": {},
   "source": [
    "<style>\n",
    "    h1 {\n",
    "        text-align: center;\n",
    "    }\n",
    "</style>\n",
    "\n",
    "\n",
    "# Saving a summary of the simulation\n",
    "\n",
    "We are saving:\n",
    "1. The configuration that was used during the run\n",
    "2. The average loss over all the clients\n",
    "3. The average loss over the server"
   ]
  },
  {
   "cell_type": "code",
   "execution_count": null,
   "metadata": {},
   "outputs": [],
   "source": [
    "summary = {\n",
    "    'configuration_used': config,\n",
    "    'client_loss': average['loss'],\n",
    "    'server_loss': server_average['loss']\n",
    "}\n",
    "\n",
    "with open(f'{TESTS_DIRECTORY}/test{test_number:03d}.json', 'w+') as output:\n",
    "    json.dump(summary, output)\n",
    "    test_number += 1"
   ]
  },
  {
   "cell_type": "markdown",
   "metadata": {},
   "source": [
    "<style>\n",
    "    h1 {\n",
    "        text-align: center;\n",
    "    }\n",
    "</style>\n",
    "\n",
    "\n",
    "# Other data manipulation"
   ]
  },
  {
   "cell_type": "code",
   "execution_count": null,
   "metadata": {},
   "outputs": [],
   "source": [
    "try:\n",
    "    with open(os.path.join(SIMULATION_DIRECTORY, 'client0'), 'rb') as input:\n",
    "        data = pickle.load(input)\n",
    "\n",
    "    for i in data:\n",
    "        plt.plot(i['loss'])\n",
    "\n",
    "    plt.show()\n",
    "except:\n",
    "    pass"
   ]
  },
  {
   "cell_type": "code",
   "execution_count": null,
   "metadata": {},
   "outputs": [],
   "source": [
    "# d = [i for i in os.listdir(SIMULATION_DIRECTORY) if not i.startswith('.')]\n",
    "# all_data = {}\n",
    "\n",
    "# for file in d:\n",
    "#     with open(os.path.join(SIMULATION_DIRECTORY, file), 'rb') as input:\n",
    "#         data = pickle.load(input)\n",
    "#         for iteration in data:\n",
    "#             for round_num in range(len(iteration['loss'])):\n",
    "#                 if round_num not in all_data.keys():\n",
    "#                     all_data[round_num] = []\n",
    "#                 all_data[round_num].append(iteration['loss'][round_num])\n",
    "\n",
    "# for key, d in all_data.items():\n",
    "#     mean = statistics.mean(d)\n",
    "#     sd = statistics.stdev(d)\n",
    "\n",
    "#     print(f'mean = {mean}')\n",
    "#     print(f'standard deviation = {sd}')\n",
    "\n",
    "#     plt.scatter(d, norm.pdf(d, mean, sd))\n",
    "#     # plt.scatter(d, t.pdf(d, mean, sd), color = 'r')\n",
    "#     plt.show()"
   ]
  },
  {
   "cell_type": "code",
   "execution_count": null,
   "metadata": {},
   "outputs": [],
   "source": [
    "test_dir = [i for i in os.listdir(TESTS_DIRECTORY) if not i.startswith('.')]\n",
    "\n",
    "for file in test_dir:\n",
    "    with open(os.path.join(TESTS_DIRECTORY, file)) as input:\n",
    "        data = json.load(input)\n",
    "    print(data['configuration_used'])\n",
    "    plt.plot(data['client_loss'])\n",
    "    plt.plot(data['server_loss'])\n",
    "    plt.legend(['Client Loss', 'Server Loss'])\n",
    "    plt.show()\n",
    "    print('########')"
   ]
  }
 ],
 "metadata": {
  "interpreter": {
   "hash": "d91fe589bc90f0d6dc0f0c4554346f17dbe90b516249e5f40a6f50a74f9af406"
  },
  "kernelspec": {
   "display_name": "Python 3.8.10 ('flwr-fl')",
   "language": "python",
   "name": "python3"
  },
  "language_info": {
   "codemirror_mode": {
    "name": "ipython",
    "version": 3
   },
   "file_extension": ".py",
   "mimetype": "text/x-python",
   "name": "python",
   "nbconvert_exporter": "python",
   "pygments_lexer": "ipython3",
   "version": "3.8.10"
  },
  "orig_nbformat": 4
 },
 "nbformat": 4,
 "nbformat_minor": 2
}
