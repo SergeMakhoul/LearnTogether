{
 "cells": [
  {
   "cell_type": "code",
   "execution_count": null,
   "metadata": {},
   "outputs": [],
   "source": [
    "import json\n",
    "import os\n",
    "import pickle\n",
    "\n",
    "import numpy as np\n",
    "from matplotlib import pyplot as plt\n",
    "from scipy.interpolate import UnivariateSpline\n",
    "\n",
    "from utils import average_server, average_simulation\n"
   ]
  },
  {
   "cell_type": "code",
   "execution_count": null,
   "metadata": {},
   "outputs": [],
   "source": [
    "SIMULATION_DIRECTORY = 'simulation'\n",
    "SIMULATION_HISTORY = 'simulation_history'\n",
    "TESTS_DIRECTORY = 'tests_average'"
   ]
  },
  {
   "cell_type": "code",
   "execution_count": null,
   "metadata": {},
   "outputs": [],
   "source": [
    "with open('config.json', 'r') as input:\n",
    "    config = json.load(input)"
   ]
  },
  {
   "cell_type": "code",
   "execution_count": null,
   "metadata": {},
   "outputs": [],
   "source": [
    "test_number = len(os.listdir(TESTS_DIRECTORY))"
   ]
  },
  {
   "cell_type": "markdown",
   "metadata": {},
   "source": [
    "<style>\n",
    "    h1 {\n",
    "        text-align: center;\n",
    "    }\n",
    "</style>\n",
    "\n",
    "\n",
    "# Averaging the simulation for the clients"
   ]
  },
  {
   "cell_type": "code",
   "execution_count": null,
   "metadata": {},
   "outputs": [],
   "source": [
    "average = average_simulation()\n",
    "\n",
    "# average"
   ]
  },
  {
   "cell_type": "code",
   "execution_count": null,
   "metadata": {},
   "outputs": [],
   "source": [
    "min(average['loss'])"
   ]
  },
  {
   "cell_type": "code",
   "execution_count": null,
   "metadata": {},
   "outputs": [],
   "source": [
    "plt.plot(average['loss'])\n",
    "plt.show()"
   ]
  },
  {
   "cell_type": "markdown",
   "metadata": {},
   "source": [
    "<style>\n",
    "    h1 {\n",
    "        text-align: center;\n",
    "    }\n",
    "</style>\n",
    "\n",
    "\n",
    "# Averaging the simulation for the server"
   ]
  },
  {
   "cell_type": "code",
   "execution_count": null,
   "metadata": {},
   "outputs": [],
   "source": [
    "server_average = average_server()\n",
    "\n",
    "# server_average"
   ]
  },
  {
   "cell_type": "code",
   "execution_count": null,
   "metadata": {},
   "outputs": [],
   "source": [
    "server_average['loss'][-1]"
   ]
  },
  {
   "cell_type": "code",
   "execution_count": null,
   "metadata": {},
   "outputs": [],
   "source": [
    "plt.plot(server_average['loss'])\n",
    "plt.show()"
   ]
  },
  {
   "cell_type": "code",
   "execution_count": null,
   "metadata": {},
   "outputs": [],
   "source": [
    "val = [(abs(server_average['loss'][i+1] - server_average['loss'][i]) / abs(server_average['loss'][i-1] - server_average['loss'][i]))\n",
    "    for i in range(1, len(server_average['loss']) - 80)]\n",
    "\n",
    "print(np.median(val))\n",
    "\n",
    "plt.plot(val)\n",
    "# plt.yscale('log')\n",
    "# plt.ylim(-0.2, 0)\n",
    "\n",
    "plt.show()"
   ]
  },
  {
   "cell_type": "markdown",
   "metadata": {},
   "source": [
    "<style>\n",
    "    h1 {\n",
    "        text-align: center;\n",
    "    }\n",
    "</style>\n",
    "\n",
    "\n",
    "# Saving a summary of the simulation\n",
    "\n",
    "We are saving:\n",
    "1. The configuration that was used during the run\n",
    "2. The average loss over all the clients\n",
    "3. The average loss over the server"
   ]
  },
  {
   "cell_type": "code",
   "execution_count": null,
   "metadata": {},
   "outputs": [],
   "source": [
    "summary = {\n",
    "    'configuration_used': config,\n",
    "    'client_loss': average['loss'],\n",
    "    'server_loss': server_average['loss']\n",
    "}\n",
    "\n",
    "with open(f'{TESTS_DIRECTORY}/test{test_number:03d}.json', 'w+') as output:\n",
    "    json.dump(summary, output)\n",
    "    test_number += 1"
   ]
  },
  {
   "cell_type": "markdown",
   "metadata": {},
   "source": [
    "<style>\n",
    "    h1 {\n",
    "        text-align: center;\n",
    "    }\n",
    "</style>\n",
    "\n",
    "\n",
    "# Other data manipulation"
   ]
  },
  {
   "cell_type": "code",
   "execution_count": null,
   "metadata": {},
   "outputs": [],
   "source": [
    "# try:\n",
    "#     with open(os.path.join(SIMULATION_DIRECTORY, 'client3'), 'rb') as input:\n",
    "#         data = pickle.load(input)\n",
    "\n",
    "#     for i in data:\n",
    "#         plt.plot(i['loss'])\n",
    "\n",
    "#     plt.show()\n",
    "# except:\n",
    "#     pass"
   ]
  },
  {
   "cell_type": "code",
   "execution_count": null,
   "metadata": {},
   "outputs": [],
   "source": [
    "# d = [i for i in os.listdir(SIMULATION_DIRECTORY) if not i.startswith('.')]\n",
    "# all_data = {}\n",
    "\n",
    "# for file in d:\n",
    "#     with open(os.path.join(SIMULATION_DIRECTORY, file), 'rb') as input:\n",
    "#         data = pickle.load(input)\n",
    "#         for iteration in data:\n",
    "#             for round_num in range(len(iteration['loss'])):\n",
    "#                 if round_num not in all_data.keys():\n",
    "#                     all_data[round_num] = []\n",
    "#                 all_data[round_num].append(iteration['loss'][round_num])\n",
    "\n",
    "# for key, d in all_data.items():\n",
    "#     mean = statistics.mean(d)\n",
    "#     sd = statistics.stdev(d)\n",
    "\n",
    "#     print(f'mean = {mean}')\n",
    "#     print(f'standard deviation = {sd}')\n",
    "\n",
    "#     plt.scatter(d, norm.pdf(d, mean, sd))\n",
    "#     # plt.scatter(d, t.pdf(d, mean, sd), color = 'r')\n",
    "#     plt.show()"
   ]
  },
  {
   "cell_type": "code",
   "execution_count": null,
   "metadata": {},
   "outputs": [],
   "source": [
    "EPSILON = 0.00001\n",
    "\n",
    "test_dir = [i for i in os.listdir(TESTS_DIRECTORY) if not i.startswith('.')]\n",
    "d = {}\n",
    "conv = 0\n",
    "\n",
    "for file in test_dir:\n",
    "    with open(os.path.join(TESTS_DIRECTORY, file)) as input:\n",
    "        data = json.load(input)\n",
    "\n",
    "    for i in range(len(data['server_loss']) - 1):\n",
    "        if abs(data['server_loss'][i+1] - data['server_loss'][i]) < EPSILON:\n",
    "            conv = i\n",
    "            break\n",
    "\n",
    "    d[data['configuration_used']['server']['strategy']['min_available_clients']] = {'MSE': data['server_loss'][-1], 'conv': conv if conv != 0 else len(data['server_loss'])}\n",
    "    # print(data['configuration_used'])\n",
    "    # plt.plot(data['client_loss'])\n",
    "    # plt.plot(data['server_loss'])\n",
    "    # plt.legend(['Client Loss', 'Server Loss'])\n",
    "    # plt.show()\n",
    "    # print('########')\n",
    "\n",
    "d = {k: d[k] for k in sorted(d)}"
   ]
  },
  {
   "cell_type": "code",
   "execution_count": null,
   "metadata": {},
   "outputs": [],
   "source": [
    "# plotting MSE calculated through Kate\n",
    "d_conf = config['data']\n",
    "\n",
    "# d_conf = {\n",
    "#     'mu': 50,\n",
    "#     'number_of_samples': 12,\n",
    "#     'sigma': 2\n",
    "# }\n",
    "\n",
    "LAMBDA = 0.1\n",
    "S = 0.1\n",
    "T = 10\n",
    "\n",
    "x = np.linspace(1, T, T)\n",
    "\n",
    "mse_kate_linear = [\\\n",
    "    (d_conf['mu'] / (i * (d_conf['number_of_samples'] - 2)))\n",
    "    + (d_conf['sigma']**2 * (i - 1) / i)\n",
    "    + config['cost'] * (i - 1)\n",
    "    # + d_conf['mu']\n",
    "for i in x]\n",
    "\n",
    "ALPHA = (\\\n",
    "    d_conf['mu'] / (d_conf['number_of_samples'] - 2) -\n",
    "    (d_conf['mu'] / (d_conf['number_of_samples'] - 2) - d_conf['sigma']**2) / T -\n",
    "    d_conf['sigma']**2) / np.exp(2 * LAMBDA * S * T)\n",
    "\n",
    "mse_kate_exp = [\\\n",
    "    (d_conf['mu'] / (i * (d_conf['number_of_samples'] - 2)))\n",
    "    + (d_conf['sigma']**2 * (i - 1) / i)\n",
    "    + ALPHA * np.exp(2 * LAMBDA * S * i)\n",
    "    # + d_conf['mu']\n",
    "for i in x]\n",
    "\n",
    "# plt.plot(x, mse_kate_linear)\n",
    "# plt.plot(x, mse_kate_exp)\n",
    "\n",
    "# plt.legend(['with linear cost', 'with exponential cost'])\n",
    "\n",
    "plt.plot(x, mse_kate_exp)\n",
    "\n",
    "plt.legend(['with exponential cost'])\n",
    "\n",
    "plt.xlabel('number of players')\n",
    "plt.ylabel('MSE')\n",
    "\n",
    "plt.show()\n",
    "\n",
    "print(min(mse_kate_exp), mse_kate_exp.index(min(mse_kate_exp)))"
   ]
  },
  {
   "cell_type": "code",
   "execution_count": null,
   "metadata": {},
   "outputs": [],
   "source": [
    "mse = [i['MSE'] for i in d.values()]\n",
    "# mse = [i['MSE'] - config['cost'] * (n - 1) for n, i in d.items()]\n",
    "\n",
    "# plotting MSE as it is\n",
    "plt.plot(d.keys(), mse, '-x')\n",
    "\n",
    "# plotting a more fitted version\n",
    "# try:\n",
    "#     a = UnivariateSpline(list(d.keys()), mse)\n",
    "#     cx = np.linspace(list(d.keys())[0], mse[-1])\n",
    "#     plt.plot(d.keys(), a(list(d.keys())), '-o')\n",
    "# except:\n",
    "#     pass\n",
    "\n",
    "plt.show()"
   ]
  },
  {
   "cell_type": "code",
   "execution_count": null,
   "metadata": {},
   "outputs": [],
   "source": [
    "conv = [i['conv'] for i in d.values()]\n",
    "plt.plot(d.keys(), conv, '-x')\n",
    "\n",
    "try:\n",
    "    a = UnivariateSpline(list(d.keys()), conv)\n",
    "    cx = np.linspace(list(d.keys())[0], conv[-1])\n",
    "    plt.plot(d.keys(), a(list(d.keys())), '-o')\n",
    "except:\n",
    "    pass\n",
    "\n",
    "plt.show()"
   ]
  },
  {
   "cell_type": "code",
   "execution_count": null,
   "metadata": {},
   "outputs": [],
   "source": [
    "mi = []\n",
    "\n",
    "for i in os.listdir(SIMULATION_SERVER_HISTORY):\n",
    "    if i == '.gitkeep':\n",
    "        continue\n",
    "    print(f'###### {i} #######')\n",
    "    path = f'{SIMULATION_SERVER_HISTORY}/{i}'\n",
    "    for j in os.listdir(path):\n",
    "        for k in os.listdir(f'{path}/{j}'):\n",
    "            with open(f'{path}/{j}/{k}', 'rb') as inf:\n",
    "                data = pickle.load(inf)\n",
    "            mi.append(data[0]['loss'][-1])\n",
    "            plt.plot(data[0]['loss'])\n",
    "            plt.show()"
   ]
  },
  {
   "cell_type": "code",
   "execution_count": null,
   "metadata": {},
   "outputs": [],
   "source": [
    "x = np.linspace(1, len(mi), len(mi))\n",
    "plt.plot(x, mi)\n",
    "plt.show()"
   ]
  },
  {
   "cell_type": "code",
   "execution_count": null,
   "metadata": {},
   "outputs": [],
   "source": [
    "for i in os.listdir(SIMULATION_HISTORY):\n",
    "    if i == '.gitkeep':\n",
    "        continue\n",
    "    print(f'###### {i} #######')\n",
    "    path = f'{SIMULATION_HISTORY}/{i}'\n",
    "    for j in os.listdir(path):\n",
    "        print(f'###### {j} #######')\n",
    "        for k in os.listdir(f'{path}/{j}'):\n",
    "            print(f'###### {k} #######')\n",
    "            with open(f'{path}/{j}/{k}', 'rb') as inf:\n",
    "                data = pickle.load(inf)\n",
    "            plt.plot(data[0]['loss'])\n",
    "            plt.show()"
   ]
  },
  {
   "cell_type": "code",
   "execution_count": null,
   "metadata": {},
   "outputs": [],
   "source": [
    "with open('simulation_history/seed_1002/clients_1/server', 'rb') as input:\n",
    "    data = pickle.load(input)\n",
    "\n",
    "plt.plot(data[0]['loss'])"
   ]
  }
 ],
 "metadata": {
  "interpreter": {
   "hash": "d91fe589bc90f0d6dc0f0c4554346f17dbe90b516249e5f40a6f50a74f9af406"
  },
  "kernelspec": {
   "display_name": "Python 3.8.10 ('flwr-fl')",
   "language": "python",
   "name": "python3"
  },
  "language_info": {
   "codemirror_mode": {
    "name": "ipython",
    "version": 3
   },
   "file_extension": ".py",
   "mimetype": "text/x-python",
   "name": "python",
   "nbconvert_exporter": "python",
   "pygments_lexer": "ipython3",
   "version": "3.8.10"
  },
  "orig_nbformat": 4
 },
 "nbformat": 4,
 "nbformat_minor": 2
}
