{
 "cells": [
  {
   "cell_type": "code",
   "execution_count": null,
   "metadata": {},
   "outputs": [],
   "source": [
    "import json\n",
    "import os\n",
    "import pickle\n",
    "import statistics\n",
    "\n",
    "from matplotlib import pyplot as plt\n",
    "from scipy.stats import norm, t\n",
    "\n",
    "from utils import average_server, average_simulation\n"
   ]
  },
  {
   "cell_type": "code",
   "execution_count": null,
   "metadata": {},
   "outputs": [],
   "source": [
    "test_number = 1"
   ]
  },
  {
   "cell_type": "code",
   "execution_count": null,
   "metadata": {},
   "outputs": [],
   "source": [
    "average = average_simulation()\n",
    "\n",
    "with open(f'tests_average/test{test_number}.json', 'w+') as output:\n",
    "    json.dump(average, output)\n",
    "    test_number += 1\n",
    "\n",
    "average"
   ]
  },
  {
   "cell_type": "code",
   "execution_count": null,
   "metadata": {},
   "outputs": [],
   "source": [
    "min(average['loss'])"
   ]
  },
  {
   "cell_type": "code",
   "execution_count": null,
   "metadata": {},
   "outputs": [],
   "source": [
    "plt.plot(average['loss'])\n",
    "plt.show()"
   ]
  },
  {
   "cell_type": "code",
   "execution_count": null,
   "metadata": {},
   "outputs": [],
   "source": [
    "average = average_server()\n",
    "\n",
    "average"
   ]
  },
  {
   "cell_type": "code",
   "execution_count": null,
   "metadata": {},
   "outputs": [],
   "source": [
    "plt.plot(average['loss'])\n",
    "plt.show()"
   ]
  },
  {
   "cell_type": "code",
   "execution_count": null,
   "metadata": {},
   "outputs": [],
   "source": [
    "with open('simulation/client0', 'rb') as input:\n",
    "    data = pickle.load(input)\n",
    "\n",
    "len(data)"
   ]
  },
  {
   "cell_type": "code",
   "execution_count": null,
   "metadata": {},
   "outputs": [],
   "source": [
    "for i in data:\n",
    "    plt.plot(i['loss'])\n",
    "\n",
    "plt.show()"
   ]
  },
  {
   "cell_type": "code",
   "execution_count": null,
   "metadata": {},
   "outputs": [],
   "source": [
    "d = os.listdir('simulation')\n",
    "all_data = {}\n",
    "for file in d:\n",
    "    with open(os.path.join('simulation', file), 'rb') as input:\n",
    "        data = pickle.load(input)\n",
    "        for iteration in data:\n",
    "            for round_num in range(len(iteration['loss'])):\n",
    "                if round_num not in all_data.keys():\n",
    "                    all_data[round_num] = []\n",
    "                all_data[round_num].append(iteration['loss'][round_num])"
   ]
  },
  {
   "cell_type": "code",
   "execution_count": null,
   "metadata": {},
   "outputs": [],
   "source": [
    "# for key, d in all_data.items():\n",
    "#     mean = statistics.mean(d)\n",
    "#     sd = statistics.stdev(d)\n",
    "\n",
    "#     print(f'mean = {mean}')\n",
    "#     print(f'standard deviation = {sd}')\n",
    "\n",
    "#     plt.scatter(d, norm.pdf(d, mean, sd))\n",
    "#     # plt.scatter(d, t.pdf(d, mean, sd), color = 'r')\n",
    "#     plt.show()"
   ]
  },
  {
   "cell_type": "code",
   "execution_count": null,
   "metadata": {},
   "outputs": [],
   "source": [
    "data0 = {}\n",
    "with open(os.path.join('simulation', 'client0'), 'rb') as input:\n",
    "    data = pickle.load(input)\n",
    "    for iteration in data:\n",
    "        for round_num in range(len(iteration['loss'])):\n",
    "            if round_num not in data0.keys():\n",
    "                data0[round_num] = []\n",
    "            data0[round_num].append(iteration['loss'][round_num])"
   ]
  },
  {
   "cell_type": "code",
   "execution_count": null,
   "metadata": {},
   "outputs": [],
   "source": [
    "for key, d in data0.items():\n",
    "    mean = statistics.mean(d)\n",
    "    sd = statistics.stdev(d)\n",
    "\n",
    "    print(f'mean = {mean}')\n",
    "    print(f'standard deviation = {sd}')"
   ]
  }
 ],
 "metadata": {
  "interpreter": {
   "hash": "924b0b3b1fcf5df5e9cb084193999cb187e4cc45ebe7b1f6268f16e079d005a8"
  },
  "kernelspec": {
   "display_name": "Python 3.8.10 ('flwr-fl')",
   "language": "python",
   "name": "python3"
  },
  "language_info": {
   "codemirror_mode": {
    "name": "ipython",
    "version": 3
   },
   "file_extension": ".py",
   "mimetype": "text/x-python",
   "name": "python",
   "nbconvert_exporter": "python",
   "pygments_lexer": "ipython3",
   "version": "3.8.10"
  },
  "orig_nbformat": 4
 },
 "nbformat": 4,
 "nbformat_minor": 2
}
