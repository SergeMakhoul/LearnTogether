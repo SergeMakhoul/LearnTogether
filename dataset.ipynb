{
 "cells": [
  {
   "cell_type": "code",
   "execution_count": 1,
   "metadata": {},
   "outputs": [],
   "source": [
    "import json\n",
    "\n",
    "import pandas as pd\n",
    "from matplotlib import pyplot as plt\n",
    "\n",
    "from utils import create_dataset"
   ]
  },
  {
   "cell_type": "code",
   "execution_count": null,
   "metadata": {},
   "outputs": [],
   "source": [
    "with open('config.json', 'r') as input:\n",
    "    config = json.load(input)"
   ]
  },
  {
   "cell_type": "code",
   "execution_count": 5,
   "metadata": {},
   "outputs": [],
   "source": [
    "data_config = config['data']\n",
    "\n",
    "for i in range(20):\n",
    "    X, Y = create_dataset(nb=data_config['number_of_samples'], mean=data_config['mean'], standard_deviation=data_config['standard_deviation'])\n",
    "    dataset = pd.concat([X, Y], axis=1, keys=['X', 'Y'])\n",
    "    dataset = dataset.sample(frac=1)\n",
    "    dataset.to_csv(f'dataset/dataset{i}.csv')"
   ]
  },
  {
   "cell_type": "code",
   "execution_count": 2,
   "metadata": {},
   "outputs": [],
   "source": [
    "X, Y = create_dataset(nb=data_config['number_of_samples'], mean=data_config['mean'], standard_deviation=data_config['standard_deviation'])\n",
    "dataset = pd.concat([X, Y], axis=1, keys=['X', 'Y'])\n",
    "dataset = dataset.sample(frac=1)\n",
    "dataset.to_csv(f'dataset/eval.csv')"
   ]
  }
 ],
 "metadata": {
  "interpreter": {
   "hash": "924b0b3b1fcf5df5e9cb084193999cb187e4cc45ebe7b1f6268f16e079d005a8"
  },
  "kernelspec": {
   "display_name": "Python 3.8.10 ('flwr-fl')",
   "language": "python",
   "name": "python3"
  },
  "language_info": {
   "codemirror_mode": {
    "name": "ipython",
    "version": 3
   },
   "file_extension": ".py",
   "mimetype": "text/x-python",
   "name": "python",
   "nbconvert_exporter": "python",
   "pygments_lexer": "ipython3",
   "version": "3.8.10"
  },
  "orig_nbformat": 4
 },
 "nbformat": 4,
 "nbformat_minor": 2
}
