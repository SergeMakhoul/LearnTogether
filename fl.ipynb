{
 "cells": [
  {
   "cell_type": "code",
   "execution_count": null,
   "metadata": {},
   "outputs": [],
   "source": [
    "import json\n",
    "import os\n",
    "import pickle\n",
    "\n",
    "import numpy as np\n",
    "from matplotlib import pyplot as plt"
   ]
  },
  {
   "cell_type": "code",
   "execution_count": null,
   "metadata": {},
   "outputs": [],
   "source": [
    "# mse_list = [[] for _ in range(100)]\n",
    "\n",
    "# for seed_number in range(1001, 1301):\n",
    "#     dir = f'simulation/seed_{seed_number}'\n",
    "\n",
    "#     dir_list = os.listdir(dir)\n",
    "#     dir_list.sort()\n",
    "\n",
    "#     for num_clients in dir_list:\n",
    "#         val = os.listdir(f'{dir}/{num_clients}')\n",
    "#         val.sort()\n",
    "\n",
    "#         avr = 0\n",
    "\n",
    "#         for client in val:\n",
    "#             with open(f'{dir}/{num_clients}/{client}', 'rb') as f:\n",
    "#                 data = pickle.load(f)\n",
    "\n",
    "#             avr += data[0]['test_loss'][-1]\n",
    "\n",
    "#         mse_list[int(num_clients.split('_')[1]) - 1].append(avr / len(val))\n",
    "\n",
    "# with open('fl_mse.json', 'w+') as f:\n",
    "#     json.dump(mse_list, f)"
   ]
  },
  {
   "cell_type": "code",
   "execution_count": null,
   "metadata": {},
   "outputs": [],
   "source": [
    "with open('fl_mse.json', 'r') as f:\n",
    "    mse_list = json.load(f)"
   ]
  },
  {
   "cell_type": "code",
   "execution_count": null,
   "metadata": {},
   "outputs": [],
   "source": [
    "l_mean = [np.mean(i) if len(i) != 0 else None for i in mse_list]\n",
    "l_median = [np.median(i) if len(i) != 0 else None for i in mse_list]"
   ]
  },
  {
   "cell_type": "code",
   "execution_count": null,
   "metadata": {},
   "outputs": [],
   "source": [
    "xs = np.arange(1, 101)\n",
    "\n",
    "series_mean = np.array(l_mean).astype(float)\n",
    "series_median = np.array(l_median).astype(float)\n",
    "\n",
    "smask = np.isfinite(series_mean)"
   ]
  },
  {
   "cell_type": "code",
   "execution_count": null,
   "metadata": {},
   "outputs": [],
   "source": [
    "plt.plot(xs[smask], series_mean[smask])\n",
    "# plt.plot(xs[smask], series_median[smask])\n",
    "\n",
    "plt.legend(['mean'])\n",
    "plt.xlabel('Number of clients')\n",
    "plt.ylabel('MSE')\n",
    "\n",
    "plt.show()"
   ]
  }
 ],
 "metadata": {
  "kernelspec": {
   "display_name": "Python 3.8.10 ('flwr-fl')",
   "language": "python",
   "name": "python3"
  },
  "language_info": {
   "codemirror_mode": {
    "name": "ipython",
    "version": 3
   },
   "file_extension": ".py",
   "mimetype": "text/x-python",
   "name": "python",
   "nbconvert_exporter": "python",
   "pygments_lexer": "ipython3",
   "version": "3.8.10"
  },
  "orig_nbformat": 4,
  "vscode": {
   "interpreter": {
    "hash": "75fdb40ac0335a539e2ac0fa42f5aec0ef960d96dbea3031bcc421ea59b149d3"
   }
  }
 },
 "nbformat": 4,
 "nbformat_minor": 2
}
