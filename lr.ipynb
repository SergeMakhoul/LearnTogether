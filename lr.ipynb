{
 "cells": [
  {
   "cell_type": "markdown",
   "metadata": {},
   "source": [
    "Simple linear regression using tensorflow Tapes\n",
    "\n",
    "1. Start with a random value for weights **m** and **C**.\n",
    "2. Use it to predict Y and compute the loss (mean squared error)\n",
    "3. From m and C, subtract the partial derivative (of the loss function with respect to the weights) multiplied with a learning rate (α).\n",
    "\n",
    "<p align='center'>\n",
    "m=m–α∗(δJδm)\n",
    "</p>\n",
    "<p align='center'>c=c–α∗(δJδc)</p>"
   ]
  },
  {
   "cell_type": "code",
   "execution_count": 1,
   "metadata": {},
   "outputs": [],
   "source": [
    "import matplotlib.pyplot as plt\n",
    "import numpy as np\n",
    "import pandas as pd\n",
    "import tensorflow as tf\n",
    "\n",
    "from dataset.create_dataset import create_dataset"
   ]
  },
  {
   "cell_type": "code",
   "execution_count": 2,
   "metadata": {},
   "outputs": [],
   "source": [
    "# the training dataset\n",
    "\n",
    "# linear\n",
    "x_train = np.linspace(0, 10, 100)\n",
    "y_train = x_train + np.random.normal(0,1,100)\n",
    "\n",
    "# using kate's work\n",
    "# X, Y = create_dataset(nb=10)\n",
    "# x_train, y_train = X.to_numpy(), Y.to_numpy()\n",
    "\n",
    "#using dataset created previously using kate's work\n",
    "# data = pd.read_csv('dataset/dataset.csv')\n",
    "# X, Y = data['X'], data['Y']\n",
    "# x_train, y_train = X.to_numpy(), Y.to_numpy()"
   ]
  },
  {
   "cell_type": "code",
   "execution_count": 3,
   "metadata": {},
   "outputs": [],
   "source": [
    "# declare weights\n",
    "weight = tf.Variable(0.)\n",
    "bias = tf.Variable(0.)\n",
    "\n",
    "# Learning rate\n",
    "learning_rate = 0.01\n",
    "\n",
    "# Number of loops for training through all your data to update the parameters\n",
    "training_epochs = 100"
   ]
  },
  {
   "cell_type": "code",
   "execution_count": 4,
   "metadata": {},
   "outputs": [],
   "source": [
    "# Define linear regression expression y\n",
    "def linreg(x):\n",
    "    y = weight*x + bias\n",
    "    return y"
   ]
  },
  {
   "cell_type": "code",
   "execution_count": 5,
   "metadata": {},
   "outputs": [],
   "source": [
    "# Define loss function (MSE)\n",
    "def squared_error(y_pred, y_true):\n",
    "    return tf.reduce_mean(tf.square(y_pred - y_true))"
   ]
  },
  {
   "cell_type": "code",
   "execution_count": 6,
   "metadata": {},
   "outputs": [
    {
     "name": "stdout",
     "output_type": "stream",
     "text": [
      "Epoch count 0: Loss value: 33.610103607177734\n",
      "Epoch count 1: Loss value: 4.001471519470215\n",
      "Epoch count 2: Loss value: 1.0648235082626343\n",
      "Epoch count 3: Loss value: 0.7735334038734436\n",
      "Epoch count 4: Loss value: 0.7446131110191345\n",
      "Epoch count 5: Loss value: 0.7417153716087341\n",
      "Epoch count 6: Loss value: 0.7413987517356873\n",
      "Epoch count 7: Loss value: 0.7413384914398193\n",
      "Epoch count 8: Loss value: 0.7413038611412048\n",
      "Epoch count 9: Loss value: 0.7412721514701843\n",
      "Epoch count 10: Loss value: 0.7412409782409668\n",
      "Epoch count 11: Loss value: 0.7412100434303284\n",
      "Epoch count 12: Loss value: 0.7411794066429138\n",
      "Epoch count 13: Loss value: 0.7411491274833679\n",
      "Epoch count 14: Loss value: 0.7411192059516907\n",
      "Epoch count 15: Loss value: 0.7410896420478821\n",
      "Epoch count 16: Loss value: 0.741060197353363\n",
      "Epoch count 17: Loss value: 0.7410311698913574\n",
      "Epoch count 18: Loss value: 0.7410024404525757\n",
      "Epoch count 19: Loss value: 0.740973949432373\n",
      "Epoch count 20: Loss value: 0.7409456372261047\n",
      "Epoch count 21: Loss value: 0.7409178018569946\n",
      "Epoch count 22: Loss value: 0.7408900260925293\n",
      "Epoch count 23: Loss value: 0.7408626675605774\n",
      "Epoch count 24: Loss value: 0.7408355474472046\n",
      "Epoch count 25: Loss value: 0.7408087253570557\n",
      "Epoch count 26: Loss value: 0.7407821416854858\n",
      "Epoch count 27: Loss value: 0.7407558560371399\n",
      "Epoch count 28: Loss value: 0.7407296895980835\n",
      "Epoch count 29: Loss value: 0.7407038807868958\n",
      "Epoch count 30: Loss value: 0.7406784296035767\n",
      "Epoch count 31: Loss value: 0.7406530976295471\n",
      "Epoch count 32: Loss value: 0.740628182888031\n",
      "Epoch count 33: Loss value: 0.7406033277511597\n",
      "Epoch count 34: Loss value: 0.7405787706375122\n",
      "Epoch count 35: Loss value: 0.7405543327331543\n",
      "Epoch count 36: Loss value: 0.7405303120613098\n",
      "Epoch count 37: Loss value: 0.7405065298080444\n",
      "Epoch count 38: Loss value: 0.7404829263687134\n",
      "Epoch count 39: Loss value: 0.7404596209526062\n",
      "Epoch count 40: Loss value: 0.7404365539550781\n",
      "Epoch count 41: Loss value: 0.74041348695755\n",
      "Epoch count 42: Loss value: 0.740390956401825\n",
      "Epoch count 43: Loss value: 0.7403684258460999\n",
      "Epoch count 44: Loss value: 0.7403461933135986\n",
      "Epoch count 45: Loss value: 0.7403242588043213\n",
      "Epoch count 46: Loss value: 0.7403024435043335\n",
      "Epoch count 47: Loss value: 0.7402809262275696\n",
      "Epoch count 48: Loss value: 0.7402595281600952\n",
      "Epoch count 49: Loss value: 0.7402384281158447\n",
      "Epoch count 50: Loss value: 0.7402175068855286\n",
      "Epoch count 51: Loss value: 0.7401967644691467\n",
      "Epoch count 52: Loss value: 0.740176260471344\n",
      "Epoch count 53: Loss value: 0.740155816078186\n",
      "Epoch count 54: Loss value: 0.7401357889175415\n",
      "Epoch count 55: Loss value: 0.7401158213615417\n",
      "Epoch count 56: Loss value: 0.7400961518287659\n",
      "Epoch count 57: Loss value: 0.7400766015052795\n",
      "Epoch count 58: Loss value: 0.7400572896003723\n",
      "Epoch count 59: Loss value: 0.7400381565093994\n",
      "Epoch count 60: Loss value: 0.7400192022323608\n",
      "Epoch count 61: Loss value: 0.7400004863739014\n",
      "Epoch count 62: Loss value: 0.7399818301200867\n",
      "Epoch count 63: Loss value: 0.7399634718894958\n",
      "Epoch count 64: Loss value: 0.7399452924728394\n",
      "Epoch count 65: Loss value: 0.7399272322654724\n",
      "Epoch count 66: Loss value: 0.7399093508720398\n",
      "Epoch count 67: Loss value: 0.7398916482925415\n",
      "Epoch count 68: Loss value: 0.7398741841316223\n",
      "Epoch count 69: Loss value: 0.7398568987846375\n",
      "Epoch count 70: Loss value: 0.7398397326469421\n",
      "Epoch count 71: Loss value: 0.7398226857185364\n",
      "Epoch count 72: Loss value: 0.7398059368133545\n",
      "Epoch count 73: Loss value: 0.7397891879081726\n",
      "Epoch count 74: Loss value: 0.7397727966308594\n",
      "Epoch count 75: Loss value: 0.7397564649581909\n",
      "Epoch count 76: Loss value: 0.7397403120994568\n",
      "Epoch count 77: Loss value: 0.7397242784500122\n",
      "Epoch count 78: Loss value: 0.7397084832191467\n",
      "Epoch count 79: Loss value: 0.739692747592926\n",
      "Epoch count 80: Loss value: 0.7396772503852844\n",
      "Epoch count 81: Loss value: 0.7396618127822876\n",
      "Epoch count 82: Loss value: 0.7396466135978699\n",
      "Epoch count 83: Loss value: 0.7396314740180969\n",
      "Epoch count 84: Loss value: 0.7396166324615479\n",
      "Epoch count 85: Loss value: 0.7396019101142883\n",
      "Epoch count 86: Loss value: 0.7395871877670288\n",
      "Epoch count 87: Loss value: 0.7395728230476379\n",
      "Epoch count 88: Loss value: 0.7395583987236023\n",
      "Epoch count 89: Loss value: 0.7395442128181458\n",
      "Epoch count 90: Loss value: 0.739530086517334\n",
      "Epoch count 91: Loss value: 0.7395161986351013\n",
      "Epoch count 92: Loss value: 0.7395024299621582\n",
      "Epoch count 93: Loss value: 0.7394888401031494\n",
      "Epoch count 94: Loss value: 0.7394753098487854\n",
      "Epoch count 95: Loss value: 0.7394618988037109\n",
      "Epoch count 96: Loss value: 0.7394487261772156\n",
      "Epoch count 97: Loss value: 0.7394355535507202\n",
      "Epoch count 98: Loss value: 0.7394225597381592\n",
      "Epoch count 99: Loss value: 0.7394098043441772\n"
     ]
    }
   ],
   "source": [
    "# train model\n",
    "for epoch in range(training_epochs):\n",
    "    # Compute loss within Gradient Tape context\n",
    "    with tf.GradientTape() as tape:\n",
    "        y_predicted = linreg(x_train)\n",
    "        loss = squared_error(y_predicted, y_train)\n",
    "\n",
    "        # Get gradients\n",
    "        gradients = tape.gradient(loss, [weight,bias])\n",
    "\n",
    "        # Adjust weights\n",
    "        weight.assign_sub(gradients[0]*learning_rate)\n",
    "        bias.assign_sub(gradients[1]*learning_rate)\n",
    "\n",
    "        # Print output\n",
    "        print(f\"Epoch count {epoch}: Loss value: {loss.numpy()}\")"
   ]
  },
  {
   "cell_type": "code",
   "execution_count": 7,
   "metadata": {},
   "outputs": [
    {
     "name": "stdout",
     "output_type": "stream",
     "text": [
      "0.9755512\n",
      "0.09999572\n"
     ]
    }
   ],
   "source": [
    "print(weight.numpy())\n",
    "print(bias.numpy())"
   ]
  },
  {
   "cell_type": "code",
   "execution_count": 8,
   "metadata": {},
   "outputs": [
    {
     "data": {
      "image/png": "[encoded data removed]",
      "text/plain": [
       "<Figure size 432x288 with 1 Axes>"
      ]
     },
     "metadata": {
      "needs_background": "light"
     },
     "output_type": "display_data"
    }
   ],
   "source": [
    "plt.scatter(x_train, y_train)\n",
    "plt.plot(x_train, linreg(x_train), 'r')\n",
    "plt.show()"
   ]
  }
 ],
 "metadata": {
  "interpreter": {
   "hash": "924b0b3b1fcf5df5e9cb084193999cb187e4cc45ebe7b1f6268f16e079d005a8"
  },
  "kernelspec": {
   "display_name": "Python 3.8.10 ('flwr-fl')",
   "language": "python",
   "name": "python3"
  },
  "language_info": {
   "codemirror_mode": {
    "name": "ipython",
    "version": 3
   },
   "file_extension": ".py",
   "mimetype": "text/x-python",
   "name": "python",
   "nbconvert_exporter": "python",
   "pygments_lexer": "ipython3",
   "version": "3.8.10"
  },
  "orig_nbformat": 4
 },
 "nbformat": 4,
 "nbformat_minor": 2
}
