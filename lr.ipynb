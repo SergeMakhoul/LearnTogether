{
 "cells": [
  {
   "cell_type": "markdown",
   "metadata": {},
   "source": [
    "Simple linear regression using tensorflow Tapes\n",
    "\n",
    "1. Start with a random value for weights **m** and **C**.\n",
    "2. Use it to predict Y and compute the loss (mean squared error)\n",
    "3. From m and C, subtract the partial derivative (of the loss function with respect to the weights) multiplied with a learning rate (α).\n",
    "\n",
    "<p align='center'>\n",
    "m=m–α∗(δJδm)\n",
    "</p>\n",
    "<p align='center'>c=c–α∗(δJδc)</p>"
   ]
  },
  {
   "cell_type": "code",
   "execution_count": null,
   "metadata": {},
   "outputs": [],
   "source": [
    "import matplotlib.pyplot as plt\n",
    "import numpy as np\n",
    "import pandas as pd\n",
    "import tensorflow as tf\n",
    "from time import perf_counter\n",
    "\n",
    "from dataset.create_dataset import create_dataset"
   ]
  },
  {
   "cell_type": "code",
   "execution_count": null,
   "metadata": {},
   "outputs": [],
   "source": [
    "# the training dataset\n",
    "\n",
    "# linear\n",
    "# x_train = np.linspace(0, 10, 100)\n",
    "# y_train = x_train + np.random.normal(0,1,100)\n",
    "\n",
    "# using kate's work\n",
    "# X, Y = create_dataset(nb=10)\n",
    "# x_train, y_train = X.to_numpy(), Y.to_numpy()\n",
    "\n",
    "#using dataset created previously using kate's work\n",
    "data = pd.read_csv('dataset/dataset.csv')\n",
    "X, Y = data['X'], data['Y']\n",
    "x_train, y_train = X.to_numpy(), Y.to_numpy()"
   ]
  },
  {
   "cell_type": "code",
   "execution_count": null,
   "metadata": {},
   "outputs": [],
   "source": [
    "# declare weights\n",
    "weight = tf.Variable(0.)\n",
    "bias = tf.Variable(0.)\n",
    "\n",
    "# Learning rate\n",
    "learning_rate = 0.01\n",
    "\n",
    "# Number of loops for training through all your data to update the parameters\n",
    "training_epochs = 100"
   ]
  },
  {
   "cell_type": "code",
   "execution_count": null,
   "metadata": {},
   "outputs": [],
   "source": [
    "# Define linear regression expression y\n",
    "def linreg(x):\n",
    "    y = weight*x + bias\n",
    "    return y"
   ]
  },
  {
   "cell_type": "code",
   "execution_count": null,
   "metadata": {},
   "outputs": [],
   "source": [
    "# Define loss function (MSE)\n",
    "def squared_error(y_pred, y_true):\n",
    "    return tf.reduce_mean(tf.square(y_pred - y_true))"
   ]
  },
  {
   "cell_type": "code",
   "execution_count": null,
   "metadata": {},
   "outputs": [],
   "source": [
    "t1 = perf_counter()\n",
    "\n",
    "# train model\n",
    "for epoch in range(training_epochs):\n",
    "    # Compute loss within Gradient Tape context\n",
    "    with tf.GradientTape() as tape:\n",
    "        y_predicted = linreg(x_train)\n",
    "        loss = squared_error(y_predicted, y_train)\n",
    "\n",
    "        # Get gradients\n",
    "        gradients = tape.gradient(loss, [weight,bias])\n",
    "\n",
    "        # Adjust weights\n",
    "        weight.assign_sub(gradients[0]*learning_rate)\n",
    "        bias.assign_sub(gradients[1]*learning_rate)\n",
    "\n",
    "        # Print output\n",
    "        print(f\"Epoch count {epoch}: Loss value: {loss.numpy()}\")\n",
    "\n",
    "print(f'\\nexecution time: {perf_counter() - t1}')"
   ]
  },
  {
   "cell_type": "code",
   "execution_count": null,
   "metadata": {},
   "outputs": [],
   "source": [
    "print(weight.numpy())\n",
    "print(bias.numpy())"
   ]
  },
  {
   "cell_type": "code",
   "execution_count": null,
   "metadata": {},
   "outputs": [],
   "source": [
    "plt.scatter(x_train, y_train)\n",
    "plt.plot(x_train, linreg(x_train), 'r')\n",
    "plt.show()"
   ]
  },
  {
   "cell_type": "code",
   "execution_count": 1,
   "metadata": {},
   "outputs": [],
   "source": [
    "from lr import LinearRegression"
   ]
  },
  {
   "cell_type": "code",
   "execution_count": 2,
   "metadata": {},
   "outputs": [
    {
     "name": "stdout",
     "output_type": "stream",
     "text": [
      "Epoch count 0: Loss value: 12.20248794555664\n",
      "Epoch count 1: Loss value: 12.129583358764648\n",
      "Epoch count 2: Loss value: 12.059432983398438\n",
      "Epoch count 3: Loss value: 11.991934776306152\n",
      "Epoch count 4: Loss value: 11.92698860168457\n",
      "Epoch count 5: Loss value: 11.864496231079102\n",
      "Epoch count 6: Loss value: 11.804366111755371\n",
      "Epoch count 7: Loss value: 11.746506690979004\n",
      "Epoch count 8: Loss value: 11.69083309173584\n",
      "Epoch count 9: Loss value: 11.637262344360352\n",
      "Epoch count 10: Loss value: 11.58571720123291\n",
      "Epoch count 11: Loss value: 11.536115646362305\n",
      "Epoch count 12: Loss value: 11.488388061523438\n",
      "Epoch count 13: Loss value: 11.442463874816895\n",
      "Epoch count 14: Loss value: 11.398272514343262\n",
      "Epoch count 15: Loss value: 11.355751037597656\n",
      "Epoch count 16: Loss value: 11.314833641052246\n",
      "Epoch count 17: Loss value: 11.275460243225098\n",
      "Epoch count 18: Loss value: 11.237573623657227\n",
      "Epoch count 19: Loss value: 11.201116561889648\n",
      "Epoch count 20: Loss value: 11.166035652160645\n",
      "Epoch count 21: Loss value: 11.132278442382812\n",
      "Epoch count 22: Loss value: 11.099794387817383\n",
      "Epoch count 23: Loss value: 11.068535804748535\n",
      "Epoch count 24: Loss value: 11.038456916809082\n",
      "Epoch count 25: Loss value: 11.009511947631836\n",
      "Epoch count 26: Loss value: 10.981658935546875\n",
      "Epoch count 27: Loss value: 10.954856872558594\n",
      "Epoch count 28: Loss value: 10.929062843322754\n",
      "Epoch count 29: Loss value: 10.904245376586914\n",
      "Epoch count 30: Loss value: 10.88036060333252\n",
      "Epoch count 31: Loss value: 10.857377052307129\n",
      "Epoch count 32: Loss value: 10.835260391235352\n",
      "Epoch count 33: Loss value: 10.813977241516113\n",
      "Epoch count 34: Loss value: 10.793495178222656\n",
      "Epoch count 35: Loss value: 10.773785591125488\n",
      "Epoch count 36: Loss value: 10.7548189163208\n",
      "Epoch count 37: Loss value: 10.736566543579102\n",
      "Epoch count 38: Loss value: 10.719002723693848\n",
      "Epoch count 39: Loss value: 10.702098846435547\n",
      "Epoch count 40: Loss value: 10.685832977294922\n",
      "Epoch count 41: Loss value: 10.670178413391113\n",
      "Epoch count 42: Loss value: 10.655115127563477\n",
      "Epoch count 43: Loss value: 10.640618324279785\n",
      "Epoch count 44: Loss value: 10.626667022705078\n",
      "Epoch count 45: Loss value: 10.613240242004395\n",
      "Epoch count 46: Loss value: 10.600321769714355\n",
      "Epoch count 47: Loss value: 10.587886810302734\n",
      "Epoch count 48: Loss value: 10.575920104980469\n",
      "Epoch count 49: Loss value: 10.564404487609863\n",
      "Epoch count 50: Loss value: 10.553322792053223\n",
      "Epoch count 51: Loss value: 10.542656898498535\n",
      "Epoch count 52: Loss value: 10.532393455505371\n",
      "Epoch count 53: Loss value: 10.522514343261719\n",
      "Epoch count 54: Loss value: 10.513010025024414\n",
      "Epoch count 55: Loss value: 10.503860473632812\n",
      "Epoch count 56: Loss value: 10.49505615234375\n",
      "Epoch count 57: Loss value: 10.48658275604248\n",
      "Epoch count 58: Loss value: 10.47842788696289\n",
      "Epoch count 59: Loss value: 10.470579147338867\n",
      "Epoch count 60: Loss value: 10.463027954101562\n",
      "Epoch count 61: Loss value: 10.455759048461914\n",
      "Epoch count 62: Loss value: 10.448761940002441\n",
      "Epoch count 63: Loss value: 10.44202995300293\n",
      "Epoch count 64: Loss value: 10.43554973602295\n",
      "Epoch count 65: Loss value: 10.429313659667969\n",
      "Epoch count 66: Loss value: 10.423312187194824\n",
      "Epoch count 67: Loss value: 10.417534828186035\n",
      "Epoch count 68: Loss value: 10.41197681427002\n",
      "Epoch count 69: Loss value: 10.406625747680664\n",
      "Epoch count 70: Loss value: 10.401476860046387\n",
      "Epoch count 71: Loss value: 10.396519660949707\n",
      "Epoch count 72: Loss value: 10.39175033569336\n",
      "Epoch count 73: Loss value: 10.38715934753418\n",
      "Epoch count 74: Loss value: 10.382741928100586\n",
      "Epoch count 75: Loss value: 10.37848949432373\n",
      "Epoch count 76: Loss value: 10.374395370483398\n",
      "Epoch count 77: Loss value: 10.37045669555664\n",
      "Epoch count 78: Loss value: 10.366665840148926\n",
      "Epoch count 79: Loss value: 10.363018035888672\n",
      "Epoch count 80: Loss value: 10.359504699707031\n",
      "Epoch count 81: Loss value: 10.356123924255371\n",
      "Epoch count 82: Loss value: 10.352871894836426\n",
      "Epoch count 83: Loss value: 10.34974193572998\n",
      "Epoch count 84: Loss value: 10.346726417541504\n",
      "Epoch count 85: Loss value: 10.343827247619629\n",
      "Epoch count 86: Loss value: 10.341034889221191\n",
      "Epoch count 87: Loss value: 10.338347434997559\n",
      "Epoch count 88: Loss value: 10.335761070251465\n",
      "Epoch count 89: Loss value: 10.333271026611328\n",
      "Epoch count 90: Loss value: 10.330876350402832\n",
      "Epoch count 91: Loss value: 10.328570365905762\n",
      "Epoch count 92: Loss value: 10.326351165771484\n",
      "Epoch count 93: Loss value: 10.324213027954102\n",
      "Epoch count 94: Loss value: 10.322158813476562\n",
      "Epoch count 95: Loss value: 10.320178985595703\n",
      "Epoch count 96: Loss value: 10.318275451660156\n",
      "Epoch count 97: Loss value: 10.31644058227539\n",
      "Epoch count 98: Loss value: 10.314676284790039\n",
      "Epoch count 99: Loss value: 10.312976837158203\n"
     ]
    }
   ],
   "source": [
    "c = LinearRegression()\n",
    "c.fit()"
   ]
  },
  {
   "cell_type": "code",
   "execution_count": 3,
   "metadata": {},
   "outputs": [
    {
     "data": {
      "image/png": "[encoded data removed]",
      "text/plain": [
       "<Figure size 432x288 with 1 Axes>"
      ]
     },
     "metadata": {
      "needs_background": "light"
     },
     "output_type": "display_data"
    }
   ],
   "source": [
    "c.plot()"
   ]
  },
  {
   "cell_type": "code",
   "execution_count": 4,
   "metadata": {},
   "outputs": [
    {
     "data": {
      "text/plain": [
       "(-1.2092165, 0.13172139)"
      ]
     },
     "execution_count": 4,
     "metadata": {},
     "output_type": "execute_result"
    }
   ],
   "source": [
    "c.get_weights()"
   ]
  },
  {
   "cell_type": "code",
   "execution_count": 5,
   "metadata": {},
   "outputs": [
    {
     "data": {
      "text/plain": [
       "0.18505539999999954"
      ]
     },
     "execution_count": 5,
     "metadata": {},
     "output_type": "execute_result"
    }
   ],
   "source": [
    "c.get_training_time()"
   ]
  }
 ],
 "metadata": {
  "interpreter": {
   "hash": "924b0b3b1fcf5df5e9cb084193999cb187e4cc45ebe7b1f6268f16e079d005a8"
  },
  "kernelspec": {
   "display_name": "Python 3.8.10 ('flwr-fl')",
   "language": "python",
   "name": "python3"
  },
  "language_info": {
   "codemirror_mode": {
    "name": "ipython",
    "version": 3
   },
   "file_extension": ".py",
   "mimetype": "text/x-python",
   "name": "python",
   "nbconvert_exporter": "python",
   "pygments_lexer": "ipython3",
   "version": "3.8.10"
  },
  "orig_nbformat": 4
 },
 "nbformat": 4,
 "nbformat_minor": 2
}
