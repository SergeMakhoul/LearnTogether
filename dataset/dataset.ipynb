{
 "cells": [
  {
   "cell_type": "code",
   "execution_count": 1,
   "metadata": {},
   "outputs": [],
   "source": [
    "from create_dataset import create_dataset\n",
    "from matplotlib import pyplot as plt\n",
    "import pandas as pd"
   ]
  },
  {
   "cell_type": "code",
   "execution_count": 3,
   "metadata": {},
   "outputs": [],
   "source": [
    "# X, Y = create_dataset(300)\n",
    "\n",
    "# plt.scatter(X, Y)\n",
    "# plt.show()"
   ]
  },
  {
   "cell_type": "code",
   "execution_count": 4,
   "metadata": {},
   "outputs": [],
   "source": [
    "# dataset = pd.concat([X, Y], axis=1, keys=['X', 'Y'])\n",
    "# dataset = dataset.sample(frac=1)\n",
    "# dataset.to_csv('dataset.csv')"
   ]
  },
  {
   "cell_type": "code",
   "execution_count": 5,
   "metadata": {},
   "outputs": [],
   "source": [
    "for i in range(20):\n",
    "    X, Y = create_dataset(10)\n",
    "    dataset = pd.concat([X, Y], axis=1, keys=['X', 'Y'])\n",
    "    dataset = dataset.sample(frac=1)\n",
    "    dataset.to_csv(f'dataset{i}.csv')"
   ]
  },
  {
   "cell_type": "code",
   "execution_count": 2,
   "metadata": {},
   "outputs": [],
   "source": [
    "X, Y = create_dataset(10)\n",
    "dataset = pd.concat([X, Y], axis=1, keys=['X', 'Y'])\n",
    "dataset = dataset.sample(frac=1)\n",
    "dataset.to_csv(f'eval.csv')"
   ]
  }
 ],
 "metadata": {
  "interpreter": {
   "hash": "924b0b3b1fcf5df5e9cb084193999cb187e4cc45ebe7b1f6268f16e079d005a8"
  },
  "kernelspec": {
   "display_name": "Python 3.8.10 ('flwr-fl')",
   "language": "python",
   "name": "python3"
  },
  "language_info": {
   "codemirror_mode": {
    "name": "ipython",
    "version": 3
   },
   "file_extension": ".py",
   "mimetype": "text/x-python",
   "name": "python",
   "nbconvert_exporter": "python",
   "pygments_lexer": "ipython3",
   "version": "3.8.10"
  },
  "orig_nbformat": 4
 },
 "nbformat": 4,
 "nbformat_minor": 2
}
